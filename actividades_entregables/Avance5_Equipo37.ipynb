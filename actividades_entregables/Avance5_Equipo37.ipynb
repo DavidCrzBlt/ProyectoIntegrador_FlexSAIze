{
  "nbformat": 4,
  "nbformat_minor": 0,
  "metadata": {
    "colab": {
      "provenance": [],
      "collapsed_sections": [
        "ssVZBUREQJHu",
        "OmF-vKSQj14G"
      ]
    },
    "kernelspec": {
      "name": "python3",
      "display_name": "Python 3"
    },
    "language_info": {
      "name": "python"
    }
  },
  "cells": [
    {
      "cell_type": "markdown",
      "source": [
        "**MAESTRÍA EN INTELIGENCIA ARTIFICIAL APLICADA**\n",
        "\n",
        "**Curso: Proyecto Integrador -TC5035**\n",
        "\n",
        "Tecnológico de Monterrey\n",
        "\n",
        "Prof Grettel Barceló Alonso\n",
        "\n",
        "Avance 5. Modelo final"
      ],
      "metadata": {
        "id": "Qd6ODTgCK0aR"
      }
    },
    {
      "cell_type": "markdown",
      "source": [
        "**- Equipo 37** <p>Perla Fernanda Bazán Barajas<p> Ignacio Garay Ruíz<p> David Cruz Beltrán\n",
        "\n",
        "**- Matrículas** <p>A01420700<p> A01795753<p> A01360416"
      ],
      "metadata": {
        "id": "auJRivNfKxFz"
      }
    },
    {
      "cell_type": "markdown",
      "source": [
        "# Introducción"
      ],
      "metadata": {
        "id": "VTgZFx-gQFmz"
      }
    },
    {
      "cell_type": "markdown",
      "source": [
        "En este quinto y último avance del proyecto **FlexSAIze**, presentaremos el modelo final propuesto para resolver el reto de adaptar automáticamente layouts publicitarios a múltiples formatos. <p> Aunque originalmente el desarrollo estaba orientado a una aplicación específica para PepsiCo, en esta etapa se ha optado por generalizar el enfoque para hacerlo aplicable a distintas marcas y agencias del sector creativo.<p>\n",
        "\n",
        "Este avance se centrará en la implementación de modelos de ensamble, tanto homogéneos como heterogéneos, aprovechando las fortalezas de los mejores modelos individuales obtenidos en fases previas. Se aplicarán técnicas como stacking, junto con procesos de ajuste de hiperparámetros, con el objetivo de maximizar el rendimiento y la capacidad de generalización del sistema. <p> Finalmente, compararemos los resultados utilizando métricas clave y se elige el modelo más robusto como solución final del proyecto."
      ],
      "metadata": {
        "id": "Nn2u3md9NGYg"
      }
    },
    {
      "cell_type": "markdown",
      "source": [
        "# Modelos Alternativos"
      ],
      "metadata": {
        "id": "pPz2kAf9NH8u"
      }
    },
    {
      "cell_type": "markdown",
      "source": [
        "Antes de comenzar con el desarrollo de la quinta actividad, a continuación retomamos los resultados obtenidos en el avance anterior, donde se exploraron y compararon diversos modelos de regresión con el objetivo de predecir la ubicación y el tamaño de elementos visuales en banners publicitarios multiformato.<p>\n",
        "\n",
        "Este conjunto de modelos individuales sirvió como base para identificar aquellos con mejor desempeño —principalmente XGBRegressor y LightGBM— los cuales serán utilizados en esta etapa como componentes clave dentro de las estrategias de ensamble. Compartimos nuevamente el análisis detallado y su implementación como punto de partida para la construcción de modelos homogéneos y heterogéneos que buscan mejorar la precisión y robustez del sistema."
      ],
      "metadata": {
        "id": "WK0Nbvmnc-L9"
      }
    },
    {
      "cell_type": "code",
      "source": [
        "from google.colab import drive\n",
        "drive.mount('/content/drive')"
      ],
      "metadata": {
        "colab": {
          "base_uri": "https://localhost:8080/"
        },
        "id": "2m7zTv5NN9XZ",
        "outputId": "6fa67412-bdbb-4cff-c339-f2d14fa8227e"
      },
      "execution_count": 1,
      "outputs": [
        {
          "output_type": "stream",
          "name": "stdout",
          "text": [
            "Mounted at /content/drive\n"
          ]
        }
      ]
    },
    {
      "cell_type": "code",
      "source": [
        "import os\n",
        "# DIR = \"/content/drive/MyDrive/14. Proyecto integrador/Banners/CSV\"\n",
        "DIR = \"/content/drive/MyDrive/Colab Notebooks/MNA/14. Proyecto integrador/Banners/CSV\"\n",
        "os.chdir(DIR)\n"
      ],
      "metadata": {
        "id": "J8891LXxODB6"
      },
      "execution_count": 2,
      "outputs": []
    },
    {
      "cell_type": "code",
      "source": [
        "import pandas as pd\n",
        "import numpy as np\n",
        "import time\n",
        "from sklearn.model_selection import train_test_split, RandomizedSearchCV\n",
        "from sklearn.metrics import mean_absolute_error, mean_squared_error, r2_score\n",
        "from sklearn.multioutput import MultiOutputRegressor\n",
        "from sklearn.ensemble import RandomForestRegressor, StackingRegressor\n",
        "from sklearn.linear_model import LinearRegression\n",
        "from sklearn.svm import SVR\n",
        "from xgboost import XGBRegressor\n",
        "from lightgbm import LGBMRegressor\n",
        "import matplotlib.pyplot as plt\n",
        "import seaborn as sns\n",
        "from sklearn.preprocessing import LabelEncoder, PowerTransformer, MinMaxScaler"
      ],
      "metadata": {
        "id": "mKfS9XjLG2Fc"
      },
      "execution_count": 3,
      "outputs": []
    },
    {
      "cell_type": "markdown",
      "source": [
        "# Preprocesamiento de Datos"
      ],
      "metadata": {
        "id": "zNnbM_98P-Ua"
      }
    },
    {
      "cell_type": "code",
      "source": [
        "df = pd.read_csv(\"banners_metadata_4.csv\")\n",
        "df.head()"
      ],
      "metadata": {
        "colab": {
          "base_uri": "https://localhost:8080/",
          "height": 226
        },
        "id": "lYmNEm3kOMUp",
        "outputId": "09b7d618-d866-4034-f6ff-9bcece40c863"
      },
      "execution_count": 4,
      "outputs": [
        {
          "output_type": "execute_result",
          "data": {
            "text/plain": [
              "                 file   layer_name        type  priority    x     y  width  \\\n",
              "0        Bubly_KV.psd   BACKGROUND  BACKGROUND        -1    0     0   1706   \n",
              "1        Bubly_KV.psd  SUB HEADING        TEXT         2  381  1341    910   \n",
              "2        Bubly_KV.psd         COPY        TEXT         2  172   219   1361   \n",
              "3        Bubly_KV.psd         SKUs     PRODUCT         2  232   523   1273   \n",
              "4  FoodService_KV.psd   BACKGROUND  BACKGROUND        -1    0     0   1298   \n",
              "\n",
              "   height  z_index  canvas_width  canvas_height  kv_canvas_width  \\\n",
              "0    1706        0          1706           1706           1706.0   \n",
              "1     146        1          1706           1706           1706.0   \n",
              "2     162        2          1706           1706           1706.0   \n",
              "3     570        3          1706           1706           1706.0   \n",
              "4    1080        0          1298           1080           1298.0   \n",
              "\n",
              "   kv_canvas_height   kv_x    kv_y  kv_width  kv_height  kv_z_index  is_in_kv  \n",
              "0            1706.0    0.0     0.0    1706.0     1706.0         0.0         1  \n",
              "1            1706.0  381.0  1341.0     910.0      146.0         1.0         1  \n",
              "2            1706.0  172.0   219.0    1361.0      162.0         2.0         1  \n",
              "3            1706.0  232.0   523.0    1273.0      570.0         3.0         1  \n",
              "4            1080.0    0.0     0.0    1298.0     1080.0         0.0         1  "
            ],
            "text/html": [
              "\n",
              "  <div id=\"df-26d7fa32-4ec6-4f4e-8192-bbc58a9d72f9\" class=\"colab-df-container\">\n",
              "    <div>\n",
              "<style scoped>\n",
              "    .dataframe tbody tr th:only-of-type {\n",
              "        vertical-align: middle;\n",
              "    }\n",
              "\n",
              "    .dataframe tbody tr th {\n",
              "        vertical-align: top;\n",
              "    }\n",
              "\n",
              "    .dataframe thead th {\n",
              "        text-align: right;\n",
              "    }\n",
              "</style>\n",
              "<table border=\"1\" class=\"dataframe\">\n",
              "  <thead>\n",
              "    <tr style=\"text-align: right;\">\n",
              "      <th></th>\n",
              "      <th>file</th>\n",
              "      <th>layer_name</th>\n",
              "      <th>type</th>\n",
              "      <th>priority</th>\n",
              "      <th>x</th>\n",
              "      <th>y</th>\n",
              "      <th>width</th>\n",
              "      <th>height</th>\n",
              "      <th>z_index</th>\n",
              "      <th>canvas_width</th>\n",
              "      <th>canvas_height</th>\n",
              "      <th>kv_canvas_width</th>\n",
              "      <th>kv_canvas_height</th>\n",
              "      <th>kv_x</th>\n",
              "      <th>kv_y</th>\n",
              "      <th>kv_width</th>\n",
              "      <th>kv_height</th>\n",
              "      <th>kv_z_index</th>\n",
              "      <th>is_in_kv</th>\n",
              "    </tr>\n",
              "  </thead>\n",
              "  <tbody>\n",
              "    <tr>\n",
              "      <th>0</th>\n",
              "      <td>Bubly_KV.psd</td>\n",
              "      <td>BACKGROUND</td>\n",
              "      <td>BACKGROUND</td>\n",
              "      <td>-1</td>\n",
              "      <td>0</td>\n",
              "      <td>0</td>\n",
              "      <td>1706</td>\n",
              "      <td>1706</td>\n",
              "      <td>0</td>\n",
              "      <td>1706</td>\n",
              "      <td>1706</td>\n",
              "      <td>1706.0</td>\n",
              "      <td>1706.0</td>\n",
              "      <td>0.0</td>\n",
              "      <td>0.0</td>\n",
              "      <td>1706.0</td>\n",
              "      <td>1706.0</td>\n",
              "      <td>0.0</td>\n",
              "      <td>1</td>\n",
              "    </tr>\n",
              "    <tr>\n",
              "      <th>1</th>\n",
              "      <td>Bubly_KV.psd</td>\n",
              "      <td>SUB HEADING</td>\n",
              "      <td>TEXT</td>\n",
              "      <td>2</td>\n",
              "      <td>381</td>\n",
              "      <td>1341</td>\n",
              "      <td>910</td>\n",
              "      <td>146</td>\n",
              "      <td>1</td>\n",
              "      <td>1706</td>\n",
              "      <td>1706</td>\n",
              "      <td>1706.0</td>\n",
              "      <td>1706.0</td>\n",
              "      <td>381.0</td>\n",
              "      <td>1341.0</td>\n",
              "      <td>910.0</td>\n",
              "      <td>146.0</td>\n",
              "      <td>1.0</td>\n",
              "      <td>1</td>\n",
              "    </tr>\n",
              "    <tr>\n",
              "      <th>2</th>\n",
              "      <td>Bubly_KV.psd</td>\n",
              "      <td>COPY</td>\n",
              "      <td>TEXT</td>\n",
              "      <td>2</td>\n",
              "      <td>172</td>\n",
              "      <td>219</td>\n",
              "      <td>1361</td>\n",
              "      <td>162</td>\n",
              "      <td>2</td>\n",
              "      <td>1706</td>\n",
              "      <td>1706</td>\n",
              "      <td>1706.0</td>\n",
              "      <td>1706.0</td>\n",
              "      <td>172.0</td>\n",
              "      <td>219.0</td>\n",
              "      <td>1361.0</td>\n",
              "      <td>162.0</td>\n",
              "      <td>2.0</td>\n",
              "      <td>1</td>\n",
              "    </tr>\n",
              "    <tr>\n",
              "      <th>3</th>\n",
              "      <td>Bubly_KV.psd</td>\n",
              "      <td>SKUs</td>\n",
              "      <td>PRODUCT</td>\n",
              "      <td>2</td>\n",
              "      <td>232</td>\n",
              "      <td>523</td>\n",
              "      <td>1273</td>\n",
              "      <td>570</td>\n",
              "      <td>3</td>\n",
              "      <td>1706</td>\n",
              "      <td>1706</td>\n",
              "      <td>1706.0</td>\n",
              "      <td>1706.0</td>\n",
              "      <td>232.0</td>\n",
              "      <td>523.0</td>\n",
              "      <td>1273.0</td>\n",
              "      <td>570.0</td>\n",
              "      <td>3.0</td>\n",
              "      <td>1</td>\n",
              "    </tr>\n",
              "    <tr>\n",
              "      <th>4</th>\n",
              "      <td>FoodService_KV.psd</td>\n",
              "      <td>BACKGROUND</td>\n",
              "      <td>BACKGROUND</td>\n",
              "      <td>-1</td>\n",
              "      <td>0</td>\n",
              "      <td>0</td>\n",
              "      <td>1298</td>\n",
              "      <td>1080</td>\n",
              "      <td>0</td>\n",
              "      <td>1298</td>\n",
              "      <td>1080</td>\n",
              "      <td>1298.0</td>\n",
              "      <td>1080.0</td>\n",
              "      <td>0.0</td>\n",
              "      <td>0.0</td>\n",
              "      <td>1298.0</td>\n",
              "      <td>1080.0</td>\n",
              "      <td>0.0</td>\n",
              "      <td>1</td>\n",
              "    </tr>\n",
              "  </tbody>\n",
              "</table>\n",
              "</div>\n",
              "    <div class=\"colab-df-buttons\">\n",
              "\n",
              "  <div class=\"colab-df-container\">\n",
              "    <button class=\"colab-df-convert\" onclick=\"convertToInteractive('df-26d7fa32-4ec6-4f4e-8192-bbc58a9d72f9')\"\n",
              "            title=\"Convert this dataframe to an interactive table.\"\n",
              "            style=\"display:none;\">\n",
              "\n",
              "  <svg xmlns=\"http://www.w3.org/2000/svg\" height=\"24px\" viewBox=\"0 -960 960 960\">\n",
              "    <path d=\"M120-120v-720h720v720H120Zm60-500h600v-160H180v160Zm220 220h160v-160H400v160Zm0 220h160v-160H400v160ZM180-400h160v-160H180v160Zm440 0h160v-160H620v160ZM180-180h160v-160H180v160Zm440 0h160v-160H620v160Z\"/>\n",
              "  </svg>\n",
              "    </button>\n",
              "\n",
              "  <style>\n",
              "    .colab-df-container {\n",
              "      display:flex;\n",
              "      gap: 12px;\n",
              "    }\n",
              "\n",
              "    .colab-df-convert {\n",
              "      background-color: #E8F0FE;\n",
              "      border: none;\n",
              "      border-radius: 50%;\n",
              "      cursor: pointer;\n",
              "      display: none;\n",
              "      fill: #1967D2;\n",
              "      height: 32px;\n",
              "      padding: 0 0 0 0;\n",
              "      width: 32px;\n",
              "    }\n",
              "\n",
              "    .colab-df-convert:hover {\n",
              "      background-color: #E2EBFA;\n",
              "      box-shadow: 0px 1px 2px rgba(60, 64, 67, 0.3), 0px 1px 3px 1px rgba(60, 64, 67, 0.15);\n",
              "      fill: #174EA6;\n",
              "    }\n",
              "\n",
              "    .colab-df-buttons div {\n",
              "      margin-bottom: 4px;\n",
              "    }\n",
              "\n",
              "    [theme=dark] .colab-df-convert {\n",
              "      background-color: #3B4455;\n",
              "      fill: #D2E3FC;\n",
              "    }\n",
              "\n",
              "    [theme=dark] .colab-df-convert:hover {\n",
              "      background-color: #434B5C;\n",
              "      box-shadow: 0px 1px 3px 1px rgba(0, 0, 0, 0.15);\n",
              "      filter: drop-shadow(0px 1px 2px rgba(0, 0, 0, 0.3));\n",
              "      fill: #FFFFFF;\n",
              "    }\n",
              "  </style>\n",
              "\n",
              "    <script>\n",
              "      const buttonEl =\n",
              "        document.querySelector('#df-26d7fa32-4ec6-4f4e-8192-bbc58a9d72f9 button.colab-df-convert');\n",
              "      buttonEl.style.display =\n",
              "        google.colab.kernel.accessAllowed ? 'block' : 'none';\n",
              "\n",
              "      async function convertToInteractive(key) {\n",
              "        const element = document.querySelector('#df-26d7fa32-4ec6-4f4e-8192-bbc58a9d72f9');\n",
              "        const dataTable =\n",
              "          await google.colab.kernel.invokeFunction('convertToInteractive',\n",
              "                                                    [key], {});\n",
              "        if (!dataTable) return;\n",
              "\n",
              "        const docLinkHtml = 'Like what you see? Visit the ' +\n",
              "          '<a target=\"_blank\" href=https://colab.research.google.com/notebooks/data_table.ipynb>data table notebook</a>'\n",
              "          + ' to learn more about interactive tables.';\n",
              "        element.innerHTML = '';\n",
              "        dataTable['output_type'] = 'display_data';\n",
              "        await google.colab.output.renderOutput(dataTable, element);\n",
              "        const docLink = document.createElement('div');\n",
              "        docLink.innerHTML = docLinkHtml;\n",
              "        element.appendChild(docLink);\n",
              "      }\n",
              "    </script>\n",
              "  </div>\n",
              "\n",
              "\n",
              "    <div id=\"df-de5bff35-e08d-48fc-9f9a-7508e8ae2199\">\n",
              "      <button class=\"colab-df-quickchart\" onclick=\"quickchart('df-de5bff35-e08d-48fc-9f9a-7508e8ae2199')\"\n",
              "                title=\"Suggest charts\"\n",
              "                style=\"display:none;\">\n",
              "\n",
              "<svg xmlns=\"http://www.w3.org/2000/svg\" height=\"24px\"viewBox=\"0 0 24 24\"\n",
              "     width=\"24px\">\n",
              "    <g>\n",
              "        <path d=\"M19 3H5c-1.1 0-2 .9-2 2v14c0 1.1.9 2 2 2h14c1.1 0 2-.9 2-2V5c0-1.1-.9-2-2-2zM9 17H7v-7h2v7zm4 0h-2V7h2v10zm4 0h-2v-4h2v4z\"/>\n",
              "    </g>\n",
              "</svg>\n",
              "      </button>\n",
              "\n",
              "<style>\n",
              "  .colab-df-quickchart {\n",
              "      --bg-color: #E8F0FE;\n",
              "      --fill-color: #1967D2;\n",
              "      --hover-bg-color: #E2EBFA;\n",
              "      --hover-fill-color: #174EA6;\n",
              "      --disabled-fill-color: #AAA;\n",
              "      --disabled-bg-color: #DDD;\n",
              "  }\n",
              "\n",
              "  [theme=dark] .colab-df-quickchart {\n",
              "      --bg-color: #3B4455;\n",
              "      --fill-color: #D2E3FC;\n",
              "      --hover-bg-color: #434B5C;\n",
              "      --hover-fill-color: #FFFFFF;\n",
              "      --disabled-bg-color: #3B4455;\n",
              "      --disabled-fill-color: #666;\n",
              "  }\n",
              "\n",
              "  .colab-df-quickchart {\n",
              "    background-color: var(--bg-color);\n",
              "    border: none;\n",
              "    border-radius: 50%;\n",
              "    cursor: pointer;\n",
              "    display: none;\n",
              "    fill: var(--fill-color);\n",
              "    height: 32px;\n",
              "    padding: 0;\n",
              "    width: 32px;\n",
              "  }\n",
              "\n",
              "  .colab-df-quickchart:hover {\n",
              "    background-color: var(--hover-bg-color);\n",
              "    box-shadow: 0 1px 2px rgba(60, 64, 67, 0.3), 0 1px 3px 1px rgba(60, 64, 67, 0.15);\n",
              "    fill: var(--button-hover-fill-color);\n",
              "  }\n",
              "\n",
              "  .colab-df-quickchart-complete:disabled,\n",
              "  .colab-df-quickchart-complete:disabled:hover {\n",
              "    background-color: var(--disabled-bg-color);\n",
              "    fill: var(--disabled-fill-color);\n",
              "    box-shadow: none;\n",
              "  }\n",
              "\n",
              "  .colab-df-spinner {\n",
              "    border: 2px solid var(--fill-color);\n",
              "    border-color: transparent;\n",
              "    border-bottom-color: var(--fill-color);\n",
              "    animation:\n",
              "      spin 1s steps(1) infinite;\n",
              "  }\n",
              "\n",
              "  @keyframes spin {\n",
              "    0% {\n",
              "      border-color: transparent;\n",
              "      border-bottom-color: var(--fill-color);\n",
              "      border-left-color: var(--fill-color);\n",
              "    }\n",
              "    20% {\n",
              "      border-color: transparent;\n",
              "      border-left-color: var(--fill-color);\n",
              "      border-top-color: var(--fill-color);\n",
              "    }\n",
              "    30% {\n",
              "      border-color: transparent;\n",
              "      border-left-color: var(--fill-color);\n",
              "      border-top-color: var(--fill-color);\n",
              "      border-right-color: var(--fill-color);\n",
              "    }\n",
              "    40% {\n",
              "      border-color: transparent;\n",
              "      border-right-color: var(--fill-color);\n",
              "      border-top-color: var(--fill-color);\n",
              "    }\n",
              "    60% {\n",
              "      border-color: transparent;\n",
              "      border-right-color: var(--fill-color);\n",
              "    }\n",
              "    80% {\n",
              "      border-color: transparent;\n",
              "      border-right-color: var(--fill-color);\n",
              "      border-bottom-color: var(--fill-color);\n",
              "    }\n",
              "    90% {\n",
              "      border-color: transparent;\n",
              "      border-bottom-color: var(--fill-color);\n",
              "    }\n",
              "  }\n",
              "</style>\n",
              "\n",
              "      <script>\n",
              "        async function quickchart(key) {\n",
              "          const quickchartButtonEl =\n",
              "            document.querySelector('#' + key + ' button');\n",
              "          quickchartButtonEl.disabled = true;  // To prevent multiple clicks.\n",
              "          quickchartButtonEl.classList.add('colab-df-spinner');\n",
              "          try {\n",
              "            const charts = await google.colab.kernel.invokeFunction(\n",
              "                'suggestCharts', [key], {});\n",
              "          } catch (error) {\n",
              "            console.error('Error during call to suggestCharts:', error);\n",
              "          }\n",
              "          quickchartButtonEl.classList.remove('colab-df-spinner');\n",
              "          quickchartButtonEl.classList.add('colab-df-quickchart-complete');\n",
              "        }\n",
              "        (() => {\n",
              "          let quickchartButtonEl =\n",
              "            document.querySelector('#df-de5bff35-e08d-48fc-9f9a-7508e8ae2199 button');\n",
              "          quickchartButtonEl.style.display =\n",
              "            google.colab.kernel.accessAllowed ? 'block' : 'none';\n",
              "        })();\n",
              "      </script>\n",
              "    </div>\n",
              "\n",
              "    </div>\n",
              "  </div>\n"
            ],
            "application/vnd.google.colaboratory.intrinsic+json": {
              "type": "dataframe",
              "variable_name": "df",
              "summary": "{\n  \"name\": \"df\",\n  \"rows\": 906,\n  \"fields\": [\n    {\n      \"column\": \"file\",\n      \"properties\": {\n        \"dtype\": \"category\",\n        \"num_unique_values\": 162,\n        \"samples\": [\n          \"Trolli_321X50.psd\",\n          \"PropelV2_640X160.psd\",\n          \"Quaker_School_500X300.psd\"\n        ],\n        \"semantic_type\": \"\",\n        \"description\": \"\"\n      }\n    },\n    {\n      \"column\": \"layer_name\",\n      \"properties\": {\n        \"dtype\": \"category\",\n        \"num_unique_values\": 10,\n        \"samples\": [\n          \"OFFER\",\n          \"SUB HEADING\",\n          \"LEGAL\"\n        ],\n        \"semantic_type\": \"\",\n        \"description\": \"\"\n      }\n    },\n    {\n      \"column\": \"type\",\n      \"properties\": {\n        \"dtype\": \"category\",\n        \"num_unique_values\": 8,\n        \"samples\": [\n          \"TEXT\",\n          \"CTA\",\n          \"BACKGROUND\"\n        ],\n        \"semantic_type\": \"\",\n        \"description\": \"\"\n      }\n    },\n    {\n      \"column\": \"priority\",\n      \"properties\": {\n        \"dtype\": \"number\",\n        \"std\": 1,\n        \"min\": -1,\n        \"max\": 4,\n        \"num_unique_values\": 5,\n        \"samples\": [\n          2,\n          4,\n          0\n        ],\n        \"semantic_type\": \"\",\n        \"description\": \"\"\n      }\n    },\n    {\n      \"column\": \"x\",\n      \"properties\": {\n        \"dtype\": \"number\",\n        \"std\": 591,\n        \"min\": -253,\n        \"max\": 9336,\n        \"num_unique_values\": 366,\n        \"samples\": [\n          11,\n          57,\n          1781\n        ],\n        \"semantic_type\": \"\",\n        \"description\": \"\"\n      }\n    },\n    {\n      \"column\": \"y\",\n      \"properties\": {\n        \"dtype\": \"number\",\n        \"std\": 259,\n        \"min\": -1046,\n        \"max\": 1787,\n        \"num_unique_values\": 367,\n        \"samples\": [\n          424,\n          657,\n          929\n        ],\n        \"semantic_type\": \"\",\n        \"description\": \"\"\n      }\n    },\n    {\n      \"column\": \"width\",\n      \"properties\": {\n        \"dtype\": \"number\",\n        \"std\": 675,\n        \"min\": 8,\n        \"max\": 10464,\n        \"num_unique_values\": 431,\n        \"samples\": [\n          108,\n          169,\n          7680\n        ],\n        \"semantic_type\": \"\",\n        \"description\": \"\"\n      }\n    },\n    {\n      \"column\": \"height\",\n      \"properties\": {\n        \"dtype\": \"number\",\n        \"std\": 379,\n        \"min\": 4,\n        \"max\": 4628,\n        \"num_unique_values\": 343,\n        \"samples\": [\n          356,\n          39,\n          21\n        ],\n        \"semantic_type\": \"\",\n        \"description\": \"\"\n      }\n    },\n    {\n      \"column\": \"z_index\",\n      \"properties\": {\n        \"dtype\": \"number\",\n        \"std\": 1,\n        \"min\": 0,\n        \"max\": 8,\n        \"num_unique_values\": 9,\n        \"samples\": [\n          7,\n          1,\n          5\n        ],\n        \"semantic_type\": \"\",\n        \"description\": \"\"\n      }\n    },\n    {\n      \"column\": \"canvas_width\",\n      \"properties\": {\n        \"dtype\": \"number\",\n        \"std\": 1080,\n        \"min\": 160,\n        \"max\": 10464,\n        \"num_unique_values\": 45,\n        \"samples\": [\n          1100,\n          624,\n          640\n        ],\n        \"semantic_type\": \"\",\n        \"description\": \"\"\n      }\n    },\n    {\n      \"column\": \"canvas_height\",\n      \"properties\": {\n        \"dtype\": \"number\",\n        \"std\": 449,\n        \"min\": 40,\n        \"max\": 2160,\n        \"num_unique_values\": 40,\n        \"samples\": [\n          1280,\n          60,\n          40\n        ],\n        \"semantic_type\": \"\",\n        \"description\": \"\"\n      }\n    },\n    {\n      \"column\": \"kv_canvas_width\",\n      \"properties\": {\n        \"dtype\": \"number\",\n        \"std\": 367.7770170534564,\n        \"min\": 811.0,\n        \"max\": 1920.0,\n        \"num_unique_values\": 5,\n        \"samples\": [\n          1298.0,\n          1080.0,\n          1920.0\n        ],\n        \"semantic_type\": \"\",\n        \"description\": \"\"\n      }\n    },\n    {\n      \"column\": \"kv_canvas_height\",\n      \"properties\": {\n        \"dtype\": \"number\",\n        \"std\": 233.3668103579007,\n        \"min\": 1080.0,\n        \"max\": 1920.0,\n        \"num_unique_values\": 4,\n        \"samples\": [\n          1080.0,\n          1920.0,\n          1706.0\n        ],\n        \"semantic_type\": \"\",\n        \"description\": \"\"\n      }\n    },\n    {\n      \"column\": \"kv_x\",\n      \"properties\": {\n        \"dtype\": \"number\",\n        \"std\": 425.61863316673583,\n        \"min\": -62.0,\n        \"max\": 1781.0,\n        \"num_unique_values\": 62,\n        \"samples\": [\n          644.0,\n          236.0,\n          0.0\n        ],\n        \"semantic_type\": \"\",\n        \"description\": \"\"\n      }\n    },\n    {\n      \"column\": \"kv_y\",\n      \"properties\": {\n        \"dtype\": \"number\",\n        \"std\": 313.40169810317985,\n        \"min\": -42.0,\n        \"max\": 1360.0,\n        \"num_unique_values\": 64,\n        \"samples\": [\n          21.0,\n          -2.0,\n          0.0\n        ],\n        \"semantic_type\": \"\",\n        \"description\": \"\"\n      }\n    },\n    {\n      \"column\": \"kv_width\",\n      \"properties\": {\n        \"dtype\": \"number\",\n        \"std\": 586.7077892618452,\n        \"min\": 10.0,\n        \"max\": 1920.0,\n        \"num_unique_values\": 71,\n        \"samples\": [\n          443.0,\n          1706.0,\n          207.0\n        ],\n        \"semantic_type\": \"\",\n        \"description\": \"\"\n      }\n    },\n    {\n      \"column\": \"kv_height\",\n      \"properties\": {\n        \"dtype\": \"number\",\n        \"std\": 462.0225318066767,\n        \"min\": 9.0,\n        \"max\": 1920.0,\n        \"num_unique_values\": 69,\n        \"samples\": [\n          303.0,\n          1706.0,\n          213.0\n        ],\n        \"semantic_type\": \"\",\n        \"description\": \"\"\n      }\n    },\n    {\n      \"column\": \"kv_z_index\",\n      \"properties\": {\n        \"dtype\": \"number\",\n        \"std\": 1.5835092014912873,\n        \"min\": 0.0,\n        \"max\": 8.0,\n        \"num_unique_values\": 9,\n        \"samples\": [\n          7.0,\n          1.0,\n          5.0\n        ],\n        \"semantic_type\": \"\",\n        \"description\": \"\"\n      }\n    },\n    {\n      \"column\": \"is_in_kv\",\n      \"properties\": {\n        \"dtype\": \"number\",\n        \"std\": 0,\n        \"min\": 0,\n        \"max\": 1,\n        \"num_unique_values\": 2,\n        \"samples\": [\n          0,\n          1\n        ],\n        \"semantic_type\": \"\",\n        \"description\": \"\"\n      }\n    }\n  ]\n}"
            }
          },
          "metadata": {},
          "execution_count": 4
        }
      ]
    },
    {
      "cell_type": "code",
      "source": [
        "df.info()"
      ],
      "metadata": {
        "colab": {
          "base_uri": "https://localhost:8080/"
        },
        "id": "ofpMF74jOjM4",
        "outputId": "93270c65-0030-4389-fd0c-8489769df3f3"
      },
      "execution_count": 5,
      "outputs": [
        {
          "output_type": "stream",
          "name": "stdout",
          "text": [
            "<class 'pandas.core.frame.DataFrame'>\n",
            "RangeIndex: 906 entries, 0 to 905\n",
            "Data columns (total 19 columns):\n",
            " #   Column            Non-Null Count  Dtype  \n",
            "---  ------            --------------  -----  \n",
            " 0   file              906 non-null    object \n",
            " 1   layer_name        906 non-null    object \n",
            " 2   type              906 non-null    object \n",
            " 3   priority          906 non-null    int64  \n",
            " 4   x                 906 non-null    int64  \n",
            " 5   y                 906 non-null    int64  \n",
            " 6   width             906 non-null    int64  \n",
            " 7   height            906 non-null    int64  \n",
            " 8   z_index           906 non-null    int64  \n",
            " 9   canvas_width      906 non-null    int64  \n",
            " 10  canvas_height     906 non-null    int64  \n",
            " 11  kv_canvas_width   694 non-null    float64\n",
            " 12  kv_canvas_height  694 non-null    float64\n",
            " 13  kv_x              600 non-null    float64\n",
            " 14  kv_y              600 non-null    float64\n",
            " 15  kv_width          600 non-null    float64\n",
            " 16  kv_height         600 non-null    float64\n",
            " 17  kv_z_index        600 non-null    float64\n",
            " 18  is_in_kv          906 non-null    int64  \n",
            "dtypes: float64(7), int64(9), object(3)\n",
            "memory usage: 134.6+ KB\n"
          ]
        }
      ]
    },
    {
      "cell_type": "code",
      "source": [
        "df_transformado = df.copy()\n",
        "\n",
        "# Nuevas variables: relative_area y aspect_ratio (banner y KV)\n",
        "# Banner (siempre definidas)\n",
        "\n",
        "df_transformado[\"aspect_ratio\"]  = df_transformado[\"width\"] / df_transformado[\"height\"]\n",
        "df_transformado[\"relative_area\"] = (df_transformado[\"width\"] * df_transformado[\"height\"]) / (\n",
        "    df_transformado[\"canvas_width\"] * df_transformado[\"canvas_height\"]\n",
        ")\n",
        "\n",
        "# KV (solo cuando hay datos)\n",
        "\n",
        "df_transformado[\"kv_aspect_ratio\"] = df_transformado[\"kv_width\"] / df_transformado[\"kv_height\"]\n",
        "df_transformado[\"kv_relative_area\"] = (df_transformado[\"kv_width\"] * df_transformado[\"kv_height\"]) / (\n",
        "    df_transformado[\"kv_canvas_width\"] * df_transformado[\"kv_canvas_height\"]\n",
        ")\n",
        "\n",
        "# Colocar NaN en KV cuando falte algo o is_in_kv == 0\n",
        "\n",
        "kv_base_cols = [\"kv_x\",\"kv_y\",\"kv_width\",\"kv_height\",\"kv_canvas_width\",\"kv_canvas_height\",\"kv_z_index\"]\n",
        "kv_derived_cols = [\"kv_aspect_ratio\",\"kv_relative_area\"]\n",
        "kv_all_cols = kv_base_cols + kv_derived_cols\n",
        "\n",
        "mask_kv_invalida = (df_transformado[\"is_in_kv\"] == 0) | df_transformado[kv_base_cols].isna().any(axis=1)\n",
        "df_transformado.loc[mask_kv_invalida, kv_all_cols] = np.nan\n",
        "\n",
        "# Eliminamos todas las instancias de BACKGROUND que no aportan información al modelo\n",
        "\n",
        "df_transformado = df_transformado[df_transformado[\"layer_name\"] != \"Background\"]\n",
        "\n",
        "# Label encoding de 2 categóricas: layer_name, type\n",
        "# Quitamos 'file' porque solo sirve como identificador, pero antes lo guardamos en una variable \"grupos\"\n",
        "\n",
        "grupos = df[\"file\"]\n",
        "\n",
        "df_transformado.drop(columns=[\"file\"], inplace=True)\n",
        "\n",
        "cat_cols = [\"layer_name\", \"type\"]\n",
        "label_encoders = {}\n",
        "\n",
        "for col in cat_cols:\n",
        "    le = LabelEncoder()\n",
        "    # Ajustar solo sobre valores no nulos\n",
        "    df_transformado[col] = le.fit_transform(df_transformado[col].astype(str))\n",
        "    label_encoders[col] = le\n",
        "\n",
        "# Yeo-Johnson + MinMax(0,1) a numéricas \"aplicables\"\n",
        "#    (excluimos tamaños absolutos de canvas y de KV por su naturaleza discreta/absoluta)\n",
        "excluir_transform = {\n",
        "    \"canvas_width\",\"canvas_height\",\"kv_canvas_width\",\"kv_canvas_height\",\n",
        "    \"priority\",\"z_index\",\"kv_z_index\"\n",
        "}\n",
        "\n",
        "# Columnas numéricas actuales\n",
        "num_cols = df_transformado.select_dtypes(include=[\"number\"]).columns.tolist()\n",
        "\n",
        "# No transformar dummies ni las de exclusión\n",
        "cols_a_transformar = [\n",
        "    c for c in num_cols\n",
        "    if (c not in excluir_transform) and (c not in cat_cols)\n",
        "]\n",
        "\n",
        "# Transformación columna a columna, preservando NaN\n",
        "for col in cols_a_transformar:\n",
        "    serie = df_transformado[col]\n",
        "    mask = serie.notna()\n",
        "\n",
        "    # Si hay al menos dos valores para ajustar\n",
        "    if mask.sum() >= 2:\n",
        "        # Yeo-Johnson sin estandarizar (solo \"desinclina\")\n",
        "        pt = PowerTransformer(method=\"yeo-johnson\", standardize=False)\n",
        "        vals_pt = pt.fit_transform(serie[mask].to_numpy().reshape(-1, 1))\n",
        "\n",
        "        # Min-Max a [0,1]\n",
        "        mm = MinMaxScaler()\n",
        "        vals_scaled = mm.fit_transform(vals_pt).ravel()\n",
        "\n",
        "        # Reemplazar manteniendo NaN\n",
        "        df_transformado.loc[mask, col] = vals_scaled\n",
        "\n",
        "\n",
        "# Verificación rápida\n",
        "print(\"Shape final:\", df_transformado.shape)\n",
        "df_transformado.info()\n"
      ],
      "metadata": {
        "id": "5jEYnLmIRQ_4"
      },
      "execution_count": null,
      "outputs": []
    },
    {
      "cell_type": "code",
      "source": [
        "df_transformado.head()"
      ],
      "metadata": {
        "colab": {
          "base_uri": "https://localhost:8080/"
        },
        "id": "P6U33QyzUeT0",
        "outputId": "cd0f12ac-d14e-4c00-8547-dc118064a919"
      },
      "execution_count": null,
      "outputs": [
        {
          "output_type": "execute_result",
          "data": {
            "text/plain": [
              "   layer_name  type  priority         x         y     width    height  \\\n",
              "0           0     0        -1  0.517812  0.650798  0.779832  0.872615   \n",
              "1           9     7         2  0.567188  0.919896  0.698179  0.533783   \n",
              "2           1     7         2  0.545657  0.702679  0.750806  0.548836   \n",
              "3           8     6         2  0.552373  0.765253  0.742148  0.725954   \n",
              "4           0     0        -1  0.517812  0.650798  0.744671  0.812319   \n",
              "\n",
              "   z_index  canvas_width  canvas_height  ...      kv_x      kv_y  kv_width  \\\n",
              "0        0          1706           1706  ...  0.490093  0.659055  0.951526   \n",
              "1        1          1706           1706  ...  0.673813  0.997390  0.724934   \n",
              "2        2          1706           1706  ...  0.597955  0.783085  0.864261   \n",
              "3        3          1706           1706  ...  0.621980  0.860717  0.839741   \n",
              "4        0          1298           1080  ...  0.490093  0.659055  0.846816   \n",
              "\n",
              "   kv_height  kv_z_index  is_in_kv  aspect_ratio  relative_area  \\\n",
              "0   0.947282         0.0         1      0.335606       0.894187   \n",
              "1   0.267499         1.0         1      0.734976       0.130355   \n",
              "2   0.284667         2.0         1      0.789011       0.206615   \n",
              "3   0.561137         3.0         1      0.515972       0.510997   \n",
              "4   0.765370         0.0         1      0.375318       0.894187   \n",
              "\n",
              "   kv_aspect_ratio  kv_relative_area  \n",
              "0         0.435912          0.996724  \n",
              "1         0.832599          0.127277  \n",
              "2         0.874271          0.203404  \n",
              "3         0.633115          0.523300  \n",
              "4         0.481695          0.996724  \n",
              "\n",
              "[5 rows x 22 columns]"
            ],
            "text/html": [
              "\n",
              "  <div id=\"df-029c866d-84e0-4a9a-a8dc-58cdcb3d0dde\" class=\"colab-df-container\">\n",
              "    <div>\n",
              "<style scoped>\n",
              "    .dataframe tbody tr th:only-of-type {\n",
              "        vertical-align: middle;\n",
              "    }\n",
              "\n",
              "    .dataframe tbody tr th {\n",
              "        vertical-align: top;\n",
              "    }\n",
              "\n",
              "    .dataframe thead th {\n",
              "        text-align: right;\n",
              "    }\n",
              "</style>\n",
              "<table border=\"1\" class=\"dataframe\">\n",
              "  <thead>\n",
              "    <tr style=\"text-align: right;\">\n",
              "      <th></th>\n",
              "      <th>layer_name</th>\n",
              "      <th>type</th>\n",
              "      <th>priority</th>\n",
              "      <th>x</th>\n",
              "      <th>y</th>\n",
              "      <th>width</th>\n",
              "      <th>height</th>\n",
              "      <th>z_index</th>\n",
              "      <th>canvas_width</th>\n",
              "      <th>canvas_height</th>\n",
              "      <th>...</th>\n",
              "      <th>kv_x</th>\n",
              "      <th>kv_y</th>\n",
              "      <th>kv_width</th>\n",
              "      <th>kv_height</th>\n",
              "      <th>kv_z_index</th>\n",
              "      <th>is_in_kv</th>\n",
              "      <th>aspect_ratio</th>\n",
              "      <th>relative_area</th>\n",
              "      <th>kv_aspect_ratio</th>\n",
              "      <th>kv_relative_area</th>\n",
              "    </tr>\n",
              "  </thead>\n",
              "  <tbody>\n",
              "    <tr>\n",
              "      <th>0</th>\n",
              "      <td>0</td>\n",
              "      <td>0</td>\n",
              "      <td>-1</td>\n",
              "      <td>0.517812</td>\n",
              "      <td>0.650798</td>\n",
              "      <td>0.779832</td>\n",
              "      <td>0.872615</td>\n",
              "      <td>0</td>\n",
              "      <td>1706</td>\n",
              "      <td>1706</td>\n",
              "      <td>...</td>\n",
              "      <td>0.490093</td>\n",
              "      <td>0.659055</td>\n",
              "      <td>0.951526</td>\n",
              "      <td>0.947282</td>\n",
              "      <td>0.0</td>\n",
              "      <td>1</td>\n",
              "      <td>0.335606</td>\n",
              "      <td>0.894187</td>\n",
              "      <td>0.435912</td>\n",
              "      <td>0.996724</td>\n",
              "    </tr>\n",
              "    <tr>\n",
              "      <th>1</th>\n",
              "      <td>9</td>\n",
              "      <td>7</td>\n",
              "      <td>2</td>\n",
              "      <td>0.567188</td>\n",
              "      <td>0.919896</td>\n",
              "      <td>0.698179</td>\n",
              "      <td>0.533783</td>\n",
              "      <td>1</td>\n",
              "      <td>1706</td>\n",
              "      <td>1706</td>\n",
              "      <td>...</td>\n",
              "      <td>0.673813</td>\n",
              "      <td>0.997390</td>\n",
              "      <td>0.724934</td>\n",
              "      <td>0.267499</td>\n",
              "      <td>1.0</td>\n",
              "      <td>1</td>\n",
              "      <td>0.734976</td>\n",
              "      <td>0.130355</td>\n",
              "      <td>0.832599</td>\n",
              "      <td>0.127277</td>\n",
              "    </tr>\n",
              "    <tr>\n",
              "      <th>2</th>\n",
              "      <td>1</td>\n",
              "      <td>7</td>\n",
              "      <td>2</td>\n",
              "      <td>0.545657</td>\n",
              "      <td>0.702679</td>\n",
              "      <td>0.750806</td>\n",
              "      <td>0.548836</td>\n",
              "      <td>2</td>\n",
              "      <td>1706</td>\n",
              "      <td>1706</td>\n",
              "      <td>...</td>\n",
              "      <td>0.597955</td>\n",
              "      <td>0.783085</td>\n",
              "      <td>0.864261</td>\n",
              "      <td>0.284667</td>\n",
              "      <td>2.0</td>\n",
              "      <td>1</td>\n",
              "      <td>0.789011</td>\n",
              "      <td>0.206615</td>\n",
              "      <td>0.874271</td>\n",
              "      <td>0.203404</td>\n",
              "    </tr>\n",
              "    <tr>\n",
              "      <th>3</th>\n",
              "      <td>8</td>\n",
              "      <td>6</td>\n",
              "      <td>2</td>\n",
              "      <td>0.552373</td>\n",
              "      <td>0.765253</td>\n",
              "      <td>0.742148</td>\n",
              "      <td>0.725954</td>\n",
              "      <td>3</td>\n",
              "      <td>1706</td>\n",
              "      <td>1706</td>\n",
              "      <td>...</td>\n",
              "      <td>0.621980</td>\n",
              "      <td>0.860717</td>\n",
              "      <td>0.839741</td>\n",
              "      <td>0.561137</td>\n",
              "      <td>3.0</td>\n",
              "      <td>1</td>\n",
              "      <td>0.515972</td>\n",
              "      <td>0.510997</td>\n",
              "      <td>0.633115</td>\n",
              "      <td>0.523300</td>\n",
              "    </tr>\n",
              "    <tr>\n",
              "      <th>4</th>\n",
              "      <td>0</td>\n",
              "      <td>0</td>\n",
              "      <td>-1</td>\n",
              "      <td>0.517812</td>\n",
              "      <td>0.650798</td>\n",
              "      <td>0.744671</td>\n",
              "      <td>0.812319</td>\n",
              "      <td>0</td>\n",
              "      <td>1298</td>\n",
              "      <td>1080</td>\n",
              "      <td>...</td>\n",
              "      <td>0.490093</td>\n",
              "      <td>0.659055</td>\n",
              "      <td>0.846816</td>\n",
              "      <td>0.765370</td>\n",
              "      <td>0.0</td>\n",
              "      <td>1</td>\n",
              "      <td>0.375318</td>\n",
              "      <td>0.894187</td>\n",
              "      <td>0.481695</td>\n",
              "      <td>0.996724</td>\n",
              "    </tr>\n",
              "  </tbody>\n",
              "</table>\n",
              "<p>5 rows × 22 columns</p>\n",
              "</div>\n",
              "    <div class=\"colab-df-buttons\">\n",
              "\n",
              "  <div class=\"colab-df-container\">\n",
              "    <button class=\"colab-df-convert\" onclick=\"convertToInteractive('df-029c866d-84e0-4a9a-a8dc-58cdcb3d0dde')\"\n",
              "            title=\"Convert this dataframe to an interactive table.\"\n",
              "            style=\"display:none;\">\n",
              "\n",
              "  <svg xmlns=\"http://www.w3.org/2000/svg\" height=\"24px\" viewBox=\"0 -960 960 960\">\n",
              "    <path d=\"M120-120v-720h720v720H120Zm60-500h600v-160H180v160Zm220 220h160v-160H400v160Zm0 220h160v-160H400v160ZM180-400h160v-160H180v160Zm440 0h160v-160H620v160ZM180-180h160v-160H180v160Zm440 0h160v-160H620v160Z\"/>\n",
              "  </svg>\n",
              "    </button>\n",
              "\n",
              "  <style>\n",
              "    .colab-df-container {\n",
              "      display:flex;\n",
              "      gap: 12px;\n",
              "    }\n",
              "\n",
              "    .colab-df-convert {\n",
              "      background-color: #E8F0FE;\n",
              "      border: none;\n",
              "      border-radius: 50%;\n",
              "      cursor: pointer;\n",
              "      display: none;\n",
              "      fill: #1967D2;\n",
              "      height: 32px;\n",
              "      padding: 0 0 0 0;\n",
              "      width: 32px;\n",
              "    }\n",
              "\n",
              "    .colab-df-convert:hover {\n",
              "      background-color: #E2EBFA;\n",
              "      box-shadow: 0px 1px 2px rgba(60, 64, 67, 0.3), 0px 1px 3px 1px rgba(60, 64, 67, 0.15);\n",
              "      fill: #174EA6;\n",
              "    }\n",
              "\n",
              "    .colab-df-buttons div {\n",
              "      margin-bottom: 4px;\n",
              "    }\n",
              "\n",
              "    [theme=dark] .colab-df-convert {\n",
              "      background-color: #3B4455;\n",
              "      fill: #D2E3FC;\n",
              "    }\n",
              "\n",
              "    [theme=dark] .colab-df-convert:hover {\n",
              "      background-color: #434B5C;\n",
              "      box-shadow: 0px 1px 3px 1px rgba(0, 0, 0, 0.15);\n",
              "      filter: drop-shadow(0px 1px 2px rgba(0, 0, 0, 0.3));\n",
              "      fill: #FFFFFF;\n",
              "    }\n",
              "  </style>\n",
              "\n",
              "    <script>\n",
              "      const buttonEl =\n",
              "        document.querySelector('#df-029c866d-84e0-4a9a-a8dc-58cdcb3d0dde button.colab-df-convert');\n",
              "      buttonEl.style.display =\n",
              "        google.colab.kernel.accessAllowed ? 'block' : 'none';\n",
              "\n",
              "      async function convertToInteractive(key) {\n",
              "        const element = document.querySelector('#df-029c866d-84e0-4a9a-a8dc-58cdcb3d0dde');\n",
              "        const dataTable =\n",
              "          await google.colab.kernel.invokeFunction('convertToInteractive',\n",
              "                                                    [key], {});\n",
              "        if (!dataTable) return;\n",
              "\n",
              "        const docLinkHtml = 'Like what you see? Visit the ' +\n",
              "          '<a target=\"_blank\" href=https://colab.research.google.com/notebooks/data_table.ipynb>data table notebook</a>'\n",
              "          + ' to learn more about interactive tables.';\n",
              "        element.innerHTML = '';\n",
              "        dataTable['output_type'] = 'display_data';\n",
              "        await google.colab.output.renderOutput(dataTable, element);\n",
              "        const docLink = document.createElement('div');\n",
              "        docLink.innerHTML = docLinkHtml;\n",
              "        element.appendChild(docLink);\n",
              "      }\n",
              "    </script>\n",
              "  </div>\n",
              "\n",
              "\n",
              "    <div id=\"df-c5f5c453-804e-498f-961b-045774e804b4\">\n",
              "      <button class=\"colab-df-quickchart\" onclick=\"quickchart('df-c5f5c453-804e-498f-961b-045774e804b4')\"\n",
              "                title=\"Suggest charts\"\n",
              "                style=\"display:none;\">\n",
              "\n",
              "<svg xmlns=\"http://www.w3.org/2000/svg\" height=\"24px\"viewBox=\"0 0 24 24\"\n",
              "     width=\"24px\">\n",
              "    <g>\n",
              "        <path d=\"M19 3H5c-1.1 0-2 .9-2 2v14c0 1.1.9 2 2 2h14c1.1 0 2-.9 2-2V5c0-1.1-.9-2-2-2zM9 17H7v-7h2v7zm4 0h-2V7h2v10zm4 0h-2v-4h2v4z\"/>\n",
              "    </g>\n",
              "</svg>\n",
              "      </button>\n",
              "\n",
              "<style>\n",
              "  .colab-df-quickchart {\n",
              "      --bg-color: #E8F0FE;\n",
              "      --fill-color: #1967D2;\n",
              "      --hover-bg-color: #E2EBFA;\n",
              "      --hover-fill-color: #174EA6;\n",
              "      --disabled-fill-color: #AAA;\n",
              "      --disabled-bg-color: #DDD;\n",
              "  }\n",
              "\n",
              "  [theme=dark] .colab-df-quickchart {\n",
              "      --bg-color: #3B4455;\n",
              "      --fill-color: #D2E3FC;\n",
              "      --hover-bg-color: #434B5C;\n",
              "      --hover-fill-color: #FFFFFF;\n",
              "      --disabled-bg-color: #3B4455;\n",
              "      --disabled-fill-color: #666;\n",
              "  }\n",
              "\n",
              "  .colab-df-quickchart {\n",
              "    background-color: var(--bg-color);\n",
              "    border: none;\n",
              "    border-radius: 50%;\n",
              "    cursor: pointer;\n",
              "    display: none;\n",
              "    fill: var(--fill-color);\n",
              "    height: 32px;\n",
              "    padding: 0;\n",
              "    width: 32px;\n",
              "  }\n",
              "\n",
              "  .colab-df-quickchart:hover {\n",
              "    background-color: var(--hover-bg-color);\n",
              "    box-shadow: 0 1px 2px rgba(60, 64, 67, 0.3), 0 1px 3px 1px rgba(60, 64, 67, 0.15);\n",
              "    fill: var(--button-hover-fill-color);\n",
              "  }\n",
              "\n",
              "  .colab-df-quickchart-complete:disabled,\n",
              "  .colab-df-quickchart-complete:disabled:hover {\n",
              "    background-color: var(--disabled-bg-color);\n",
              "    fill: var(--disabled-fill-color);\n",
              "    box-shadow: none;\n",
              "  }\n",
              "\n",
              "  .colab-df-spinner {\n",
              "    border: 2px solid var(--fill-color);\n",
              "    border-color: transparent;\n",
              "    border-bottom-color: var(--fill-color);\n",
              "    animation:\n",
              "      spin 1s steps(1) infinite;\n",
              "  }\n",
              "\n",
              "  @keyframes spin {\n",
              "    0% {\n",
              "      border-color: transparent;\n",
              "      border-bottom-color: var(--fill-color);\n",
              "      border-left-color: var(--fill-color);\n",
              "    }\n",
              "    20% {\n",
              "      border-color: transparent;\n",
              "      border-left-color: var(--fill-color);\n",
              "      border-top-color: var(--fill-color);\n",
              "    }\n",
              "    30% {\n",
              "      border-color: transparent;\n",
              "      border-left-color: var(--fill-color);\n",
              "      border-top-color: var(--fill-color);\n",
              "      border-right-color: var(--fill-color);\n",
              "    }\n",
              "    40% {\n",
              "      border-color: transparent;\n",
              "      border-right-color: var(--fill-color);\n",
              "      border-top-color: var(--fill-color);\n",
              "    }\n",
              "    60% {\n",
              "      border-color: transparent;\n",
              "      border-right-color: var(--fill-color);\n",
              "    }\n",
              "    80% {\n",
              "      border-color: transparent;\n",
              "      border-right-color: var(--fill-color);\n",
              "      border-bottom-color: var(--fill-color);\n",
              "    }\n",
              "    90% {\n",
              "      border-color: transparent;\n",
              "      border-bottom-color: var(--fill-color);\n",
              "    }\n",
              "  }\n",
              "</style>\n",
              "\n",
              "      <script>\n",
              "        async function quickchart(key) {\n",
              "          const quickchartButtonEl =\n",
              "            document.querySelector('#' + key + ' button');\n",
              "          quickchartButtonEl.disabled = true;  // To prevent multiple clicks.\n",
              "          quickchartButtonEl.classList.add('colab-df-spinner');\n",
              "          try {\n",
              "            const charts = await google.colab.kernel.invokeFunction(\n",
              "                'suggestCharts', [key], {});\n",
              "          } catch (error) {\n",
              "            console.error('Error during call to suggestCharts:', error);\n",
              "          }\n",
              "          quickchartButtonEl.classList.remove('colab-df-spinner');\n",
              "          quickchartButtonEl.classList.add('colab-df-quickchart-complete');\n",
              "        }\n",
              "        (() => {\n",
              "          let quickchartButtonEl =\n",
              "            document.querySelector('#df-c5f5c453-804e-498f-961b-045774e804b4 button');\n",
              "          quickchartButtonEl.style.display =\n",
              "            google.colab.kernel.accessAllowed ? 'block' : 'none';\n",
              "        })();\n",
              "      </script>\n",
              "    </div>\n",
              "\n",
              "    </div>\n",
              "  </div>\n"
            ],
            "application/vnd.google.colaboratory.intrinsic+json": {
              "type": "dataframe",
              "variable_name": "df_transformado"
            }
          },
          "metadata": {},
          "execution_count": 9
        }
      ]
    },
    {
      "cell_type": "markdown",
      "source": [
        "# Particiones"
      ],
      "metadata": {
        "id": "ssVZBUREQJHu"
      }
    },
    {
      "cell_type": "code",
      "source": [
        "from sklearn.model_selection import train_test_split, KFold, GroupKFold, GroupShuffleSplit, cross_val_score\n",
        "from sklearn.ensemble import RandomForestRegressor, HistGradientBoostingRegressor\n",
        "from sklearn.multioutput import MultiOutputRegressor\n",
        "from sklearn.metrics import mean_squared_error, mean_absolute_error, r2_score, make_scorer"
      ],
      "metadata": {
        "id": "_pQ4uafeWgDY"
      },
      "execution_count": null,
      "outputs": []
    },
    {
      "cell_type": "code",
      "source": [
        "# Definimos \"X\" y \"y\"\n",
        "y_cols = [\"x\", \"y\", \"width\", \"height\"]\n",
        "X = df_transformado.drop(columns=y_cols)\n",
        "y = df_transformado[y_cols].copy()"
      ],
      "metadata": {
        "id": "u1fjUr9_23AN"
      },
      "execution_count": null,
      "outputs": []
    },
    {
      "cell_type": "code",
      "source": [
        "# Tomamos los grupos desde el df original, alineados al índice de df_transformado\n",
        "groups = df.loc[X.index, \"file\"]\n",
        "\n",
        "# ---------- 1) 80% train vs 20% temp (group-aware) ----------\n",
        "gss1 = GroupShuffleSplit(n_splits=1, test_size=0.20, random_state=42)\n",
        "train_idx, temp_idx = next(gss1.split(X, y, groups))\n",
        "\n",
        "X_train = X.iloc[train_idx]\n",
        "y_train = y.iloc[train_idx]\n",
        "groups_train = groups.iloc[train_idx]\n",
        "\n",
        "X_temp  = X.iloc[temp_idx]\n",
        "y_temp  = y.iloc[temp_idx]\n",
        "groups_temp = groups.iloc[temp_idx]\n",
        "\n",
        "# ---------- 2) Del 20% restante → 10% val y 10% test ----------\n",
        "gss2 = GroupShuffleSplit(n_splits=1, test_size=0.50, random_state=42)\n",
        "val_idx, test_idx = next(gss2.split(X_temp, y_temp, groups_temp))\n",
        "\n",
        "X_val  = X_temp.iloc[val_idx]\n",
        "y_val  = y_temp.iloc[val_idx]\n",
        "groups_val = groups_temp.iloc[val_idx]\n",
        "\n",
        "X_test = X_temp.iloc[test_idx]\n",
        "y_test = y_temp.iloc[test_idx]\n",
        "groups_test = groups_temp.iloc[test_idx]"
      ],
      "metadata": {
        "id": "4QYKLvu3Gsuu"
      },
      "execution_count": null,
      "outputs": []
    },
    {
      "cell_type": "code",
      "source": [
        "def uniq_files(g): return g.nunique()\n",
        "print(\"Shapes -> Train:\", X_train.shape, \"| Val:\", X_val.shape, \"| Test:\", X_test.shape)\n",
        "print(\"Files únicos -> Train:\", uniq_files(groups_train),\n",
        "      \"| Val:\", uniq_files(groups_val), \"| Test:\", uniq_files(groups_test))\n",
        "\n",
        "# Asegurar que no haya fuga de banners entre splits\n",
        "inter_tr_val  = set(groups_train) & set(groups_val)\n",
        "inter_tr_test = set(groups_train) & set(groups_test)\n",
        "inter_val_test= set(groups_val)  & set(groups_test)\n",
        "print(\"Intersecciones de 'file' (deben ser vacías):\",\n",
        "      len(inter_tr_val), len(inter_tr_test), len(inter_val_test))"
      ],
      "metadata": {
        "colab": {
          "base_uri": "https://localhost:8080/"
        },
        "id": "BcRuCGxcG7tc",
        "outputId": "42191cb2-83f8-4196-f269-227da4dcc667"
      },
      "execution_count": null,
      "outputs": [
        {
          "output_type": "stream",
          "name": "stdout",
          "text": [
            "Shapes -> Train: (720, 18) | Val: (93, 18) | Test: (93, 18)\n",
            "Files únicos -> Train: 129 | Val: 16 | Test: 17\n",
            "Intersecciones de 'file' (deben ser vacías): 0 0 0\n"
          ]
        }
      ]
    },
    {
      "cell_type": "code",
      "source": [
        "from sklearn.metrics import mean_absolute_error, mean_squared_error, r2_score\n",
        "import numpy as np\n",
        "import pandas as pd\n",
        "\n",
        "def report_metrics(y_true, y_pred, tag):\n",
        "    \"\"\"\n",
        "    Calcula RMSE, MAE y R² promedio para modelos multi-output.\n",
        "    Retorna tuple (rmse_mean, mae_mean, r2_mean) y un DataFrame por salida.\n",
        "    \"\"\"\n",
        "\n",
        "    mae_vals  = mean_absolute_error(y_true, y_pred, multioutput='raw_values')\n",
        "    rmse_vals = np.sqrt(mean_squared_error(y_true, y_pred, multioutput='raw_values'))\n",
        "    r2_vals   = r2_score(y_true, y_pred, multioutput='raw_values')\n",
        "\n",
        "    # Promedios globales\n",
        "    mae_mean = mae_vals.mean()\n",
        "    rmse_mean = rmse_vals.mean()\n",
        "    r2_mean = r2_vals.mean()\n",
        "\n",
        "    # Mostrar resumen global\n",
        "    print(f\"[{tag}] RMSE(mean): {rmse_mean:.4f} | MAE(mean): {mae_mean:.4f} | R2(mean): {r2_mean:.4f}\")\n",
        "\n",
        "    # Detectar nombres de columnas si es DataFrame\n",
        "    if isinstance(y_true, pd.DataFrame):\n",
        "        col_names = y_true.columns\n",
        "    else:\n",
        "        col_names = [f\"Output {i+1}\" for i in range(len(mae_vals))]\n",
        "\n",
        "    # Mostrar métricas individuales\n",
        "    for name, m, r, s in zip(col_names, mae_vals, rmse_vals, r2_vals):\n",
        "        print(f\"   {name}: RMSE={r:.4f} | MAE={m:.4f} | R2={s:.4f}\")\n",
        "\n",
        "    df_metrics = pd.DataFrame({\n",
        "        \"Modelo\": tag,\n",
        "        \"Variable\": col_names,\n",
        "        \"RMSE\": rmse_vals,\n",
        "        \"MAE\": mae_vals,\n",
        "        \"R2\": r2_vals\n",
        "    })\n",
        "\n",
        "    return (rmse_mean, mae_mean, r2_mean, df_metrics)\n"
      ],
      "metadata": {
        "id": "ce2HaWs0DWYM"
      },
      "execution_count": null,
      "outputs": []
    },
    {
      "cell_type": "markdown",
      "source": [
        "# Modelos"
      ],
      "metadata": {
        "id": "OmF-vKSQj14G"
      }
    },
    {
      "cell_type": "markdown",
      "source": [
        "## 1. DecisionTreeRegressor"
      ],
      "metadata": {
        "id": "vkti6g7yN9oC"
      }
    },
    {
      "cell_type": "code",
      "source": [
        "from sklearn.tree import DecisionTreeRegressor\n",
        "import numpy as np"
      ],
      "metadata": {
        "id": "AbrmXTgTlxah"
      },
      "execution_count": null,
      "outputs": []
    },
    {
      "cell_type": "code",
      "source": [
        "dtr = DecisionTreeRegressor(\n",
        "        max_depth=10,\n",
        "        min_samples_split=5,\n",
        "        min_samples_leaf=5,\n",
        "        random_state=42\n",
        "    )\n",
        "\n",
        "dtr.fit(X_train, y_train)\n",
        "\n",
        "y_pred_val = dtr.predict(X_val)\n",
        "y_pred_test = dtr.predict(X_test)"
      ],
      "metadata": {
        "id": "vg3AIT4k8A8k"
      },
      "execution_count": null,
      "outputs": []
    },
    {
      "cell_type": "code",
      "source": [
        "rmse_val_DTR, mae_val_DTR, r2_val_DTR, df_val_DTR = report_metrics(y_val,  y_pred_val,  \"DTR VAL\")\n",
        "rmse_test_DTR, mae_test_DTR, r2_test_DTR, df_test_DTR = report_metrics(y_test, y_pred_test, \"DTR TEST\")\n",
        "df_val_DTR[\"Dataset\"] = \"val\"\n",
        "df_test_DTR[\"Dataset\"] = \"test\""
      ],
      "metadata": {
        "colab": {
          "base_uri": "https://localhost:8080/"
        },
        "id": "74GwsWyO7uYM",
        "outputId": "ab80ed19-7067-4cf5-9ce1-b7dfc0394b02"
      },
      "execution_count": null,
      "outputs": [
        {
          "output_type": "stream",
          "name": "stdout",
          "text": [
            "[DTR VAL] RMSE(mean): 0.0410 | MAE(mean): 0.0280 | R2(mean): 0.5052\n",
            "   x: RMSE=0.0306 | MAE=0.0209 | R2=0.0247\n",
            "   y: RMSE=0.0367 | MAE=0.0197 | R2=0.2091\n",
            "   width: RMSE=0.0457 | MAE=0.0345 | R2=0.8707\n",
            "   height: RMSE=0.0512 | MAE=0.0368 | R2=0.9163\n",
            "[DTR TEST] RMSE(mean): 0.0509 | MAE(mean): 0.0308 | R2(mean): 0.6122\n",
            "   x: RMSE=0.0511 | MAE=0.0194 | R2=0.1416\n",
            "   y: RMSE=0.0268 | MAE=0.0180 | R2=0.6546\n",
            "   width: RMSE=0.0692 | MAE=0.0475 | R2=0.7526\n",
            "   height: RMSE=0.0567 | MAE=0.0380 | R2=0.9000\n"
          ]
        }
      ]
    },
    {
      "cell_type": "markdown",
      "source": [
        "## 2. Random Forest"
      ],
      "metadata": {
        "id": "D4RMFS3hQNRO"
      }
    },
    {
      "cell_type": "code",
      "source": [
        "# Crear el modelo RandomForestRegressor\n",
        "rf = RandomForestRegressor(\n",
        "    n_estimators=400,     # número de árboles\n",
        "    max_depth=10,       # profundidad libre\n",
        "    min_samples_split=2,  # mínima cantidad para dividir\n",
        "    min_samples_leaf=1,   # tamaño mínimo de hoja\n",
        "    # max_features=\"sqrt\",  # subset aleatorio de variables por división\n",
        "    n_jobs=-1,            # usa todos los núcleos del CPU\n",
        "    random_state=42,      # reproducibilidad\n",
        "    oob_score=False       # puedes activarlo si quieres validación interna\n",
        ")"
      ],
      "metadata": {
        "id": "qgjWUIP24TJ0"
      },
      "execution_count": null,
      "outputs": []
    },
    {
      "cell_type": "code",
      "source": [
        "rf.fit(X_train, y_train)\n",
        "\n",
        "y_pred_val  = rf.predict(X_val)\n",
        "y_pred_test = rf.predict(X_test)"
      ],
      "metadata": {
        "id": "buKcKihI4SZc"
      },
      "execution_count": null,
      "outputs": []
    },
    {
      "cell_type": "code",
      "source": [
        "rmse_val_RFR, mae_val_RFR, r2_val_RFR, df_val_RFR  = report_metrics(y_val,  y_pred_val,  \"RF VAL\")\n",
        "rmse_test_RFR, mae_test_RFR, r2_test_RFR, df_test_RFR = report_metrics(y_test, y_pred_test, \"RF TEST\")\n",
        "df_val_RFR[\"Dataset\"] = \"val\"\n",
        "df_test_RFR[\"Dataset\"] = \"test\""
      ],
      "metadata": {
        "colab": {
          "base_uri": "https://localhost:8080/"
        },
        "id": "Bn18cn1f4Ku9",
        "outputId": "3102065c-726c-4356-af97-284583bcc26f"
      },
      "execution_count": null,
      "outputs": [
        {
          "output_type": "stream",
          "name": "stdout",
          "text": [
            "[RF VAL] RMSE(mean): 0.0275 | MAE(mean): 0.0177 | R2(mean): 0.7091\n",
            "   x: RMSE=0.0254 | MAE=0.0172 | R2=0.3277\n",
            "   y: RMSE=0.0265 | MAE=0.0137 | R2=0.5893\n",
            "   width: RMSE=0.0299 | MAE=0.0197 | R2=0.9448\n",
            "   height: RMSE=0.0282 | MAE=0.0201 | R2=0.9746\n",
            "[RF TEST] RMSE(mean): 0.0415 | MAE(mean): 0.0218 | R2(mean): 0.6900\n",
            "   x: RMSE=0.0498 | MAE=0.0173 | R2=0.1827\n",
            "   y: RMSE=0.0218 | MAE=0.0150 | R2=0.7716\n",
            "   width: RMSE=0.0513 | MAE=0.0297 | R2=0.8640\n",
            "   height: RMSE=0.0433 | MAE=0.0252 | R2=0.9416\n"
          ]
        }
      ]
    },
    {
      "cell_type": "markdown",
      "source": [
        "## 3. Gradient Boosting Regressor"
      ],
      "metadata": {
        "id": "wbXXf2ucEP0Q"
      }
    },
    {
      "cell_type": "code",
      "source": [
        "hgbr = HistGradientBoostingRegressor(\n",
        "        max_iter=300,        # ~ n_estimators\n",
        "        learning_rate=0.05,\n",
        "        max_depth=5,         # ó usar max_leaf_nodes=31\n",
        "        l2_regularization=0.1,\n",
        "        random_state=42\n",
        "    )\n",
        "\n",
        "multi_hgbr = MultiOutputRegressor(hgbr)\n",
        "multi_hgbr.fit(X_train, y_train)\n",
        "y_pred_val  = multi_hgbr.predict(X_val)\n",
        "y_pred_test = multi_hgbr.predict(X_test)"
      ],
      "metadata": {
        "id": "2JmR7Ipa9Bhp"
      },
      "execution_count": null,
      "outputs": []
    },
    {
      "cell_type": "code",
      "source": [
        "rmse_val_HGB, mae_val_HGB, r2_val_HGB, df_val_HGB = report_metrics(y_val,  y_pred_val,  \"HGB VAL\")\n",
        "rmse_test_HGB, mae_test_HGB, r2_test_HGB, df_test_HGB = report_metrics(y_test, y_pred_test, \"HGB TEST\")\n",
        "df_val_HGB[\"Dataset\"] = \"val\"\n",
        "df_test_HGB[\"Dataset\"] = \"test\""
      ],
      "metadata": {
        "colab": {
          "base_uri": "https://localhost:8080/"
        },
        "id": "r219wWzG9fNR",
        "outputId": "b074f3db-bb3e-43b8-a399-bdedf0feca1f"
      },
      "execution_count": null,
      "outputs": [
        {
          "output_type": "stream",
          "name": "stdout",
          "text": [
            "[HGB VAL] RMSE(mean): 0.0223 | MAE(mean): 0.0144 | R2(mean): 0.7430\n",
            "   x: RMSE=0.0248 | MAE=0.0171 | R2=0.3581\n",
            "   y: RMSE=0.0244 | MAE=0.0127 | R2=0.6496\n",
            "   width: RMSE=0.0184 | MAE=0.0126 | R2=0.9790\n",
            "   height: RMSE=0.0215 | MAE=0.0154 | R2=0.9852\n",
            "[HGB TEST] RMSE(mean): 0.0321 | MAE(mean): 0.0172 | R2(mean): 0.7895\n",
            "   x: RMSE=0.0435 | MAE=0.0171 | R2=0.3770\n",
            "   y: RMSE=0.0157 | MAE=0.0104 | R2=0.8817\n",
            "   width: RMSE=0.0356 | MAE=0.0204 | R2=0.9347\n",
            "   height: RMSE=0.0338 | MAE=0.0210 | R2=0.9645\n"
          ]
        }
      ]
    },
    {
      "cell_type": "markdown",
      "source": [
        "## 4. XGBRegressor"
      ],
      "metadata": {
        "id": "XcoDnV08QRDR"
      }
    },
    {
      "cell_type": "code",
      "source": [
        "from xgboost import XGBRegressor"
      ],
      "metadata": {
        "id": "v3X28Jc_NRgD"
      },
      "execution_count": null,
      "outputs": []
    },
    {
      "cell_type": "code",
      "source": [
        "xgbr = XGBRegressor(\n",
        "        n_estimators=500,\n",
        "        learning_rate=0.05,\n",
        "        max_depth=6,\n",
        "        subsample=0.8,\n",
        "        colsample_bytree=0.8,\n",
        "        random_state=42,\n",
        "        tree_method=\"hist\",\n",
        "        eval_metric=\"rmse\"\n",
        "    )"
      ],
      "metadata": {
        "id": "B81_vNt7AetG"
      },
      "execution_count": null,
      "outputs": []
    },
    {
      "cell_type": "code",
      "source": [
        "multi_xgbr = MultiOutputRegressor(xgbr)\n",
        "multi_xgbr.fit(X_train, y_train)\n",
        "y_pred_val  = multi_xgbr.predict(X_val)\n",
        "y_pred_test = multi_xgbr.predict(X_test)"
      ],
      "metadata": {
        "id": "2m6GXsKRAlwt"
      },
      "execution_count": null,
      "outputs": []
    },
    {
      "cell_type": "code",
      "source": [
        "rmse_val_XGB, mae_val_XGB, r2_val_XGB, df_val_XGB = report_metrics(y_val,  y_pred_val,  \"XGB VAL\")\n",
        "rmse_test_XGB, mae_test_XGB, r2_test_XGB, df_test_XGB = report_metrics(y_test, y_pred_test, \"XGB TEST\")\n",
        "df_val_XGB[\"Dataset\"] = \"val\"\n",
        "df_test_XGB[\"Dataset\"] = \"test\""
      ],
      "metadata": {
        "colab": {
          "base_uri": "https://localhost:8080/"
        },
        "id": "kg9OBF24At8d",
        "outputId": "ee6d5713-dab3-41b8-dc9f-ca99ad964e3a"
      },
      "execution_count": null,
      "outputs": [
        {
          "output_type": "stream",
          "name": "stdout",
          "text": [
            "[XGB VAL] RMSE(mean): 0.0183 | MAE(mean): 0.0113 | R2(mean): 0.8446\n",
            "   x: RMSE=0.0192 | MAE=0.0125 | R2=0.6133\n",
            "   y: RMSE=0.0188 | MAE=0.0091 | R2=0.7928\n",
            "   width: RMSE=0.0157 | MAE=0.0109 | R2=0.9848\n",
            "   height: RMSE=0.0197 | MAE=0.0128 | R2=0.9877\n",
            "[XGB TEST] RMSE(mean): 0.0283 | MAE(mean): 0.0155 | R2(mean): 0.8491\n",
            "   x: RMSE=0.0359 | MAE=0.0143 | R2=0.5752\n",
            "   y: RMSE=0.0140 | MAE=0.0092 | R2=0.9050\n",
            "   width: RMSE=0.0323 | MAE=0.0185 | R2=0.9460\n",
            "   height: RMSE=0.0309 | MAE=0.0198 | R2=0.9703\n"
          ]
        }
      ]
    },
    {
      "cell_type": "markdown",
      "source": [
        "## 5. LightGBMRegressor"
      ],
      "metadata": {
        "id": "7B1VejWoWwCD"
      }
    },
    {
      "cell_type": "code",
      "source": [
        "from lightgbm import LGBMRegressor\n",
        "from sklearn.metrics import mean_squared_error, mean_absolute_error, r2_score\n",
        "import numpy as np"
      ],
      "metadata": {
        "id": "9ZOAEKwBC-u7"
      },
      "execution_count": null,
      "outputs": []
    },
    {
      "cell_type": "code",
      "source": [
        "lgbm = LGBMRegressor(\n",
        "        n_estimators=500,\n",
        "        learning_rate=0.05,\n",
        "        max_depth=6,\n",
        "        num_leaves=31,\n",
        "        subsample=0.8,\n",
        "        colsample_bytree=0.8,\n",
        "        reg_alpha=0.1,\n",
        "        reg_lambda=0.1,\n",
        "        random_state=42,\n",
        "        n_jobs=-1,\n",
        "        verbosity=-1  # controla logging en LightGBM\n",
        "    )\n"
      ],
      "metadata": {
        "id": "AabKq3l-A_5G"
      },
      "execution_count": null,
      "outputs": []
    },
    {
      "cell_type": "code",
      "source": [
        "multi_lgbm = MultiOutputRegressor(lgbm)\n",
        "multi_lgbm.fit(X_train, y_train)\n",
        "y_pred_val  = multi_lgbm.predict(X_val)\n",
        "y_pred_test = multi_lgbm.predict(X_test)"
      ],
      "metadata": {
        "id": "fI1-gYt3BHSN"
      },
      "execution_count": null,
      "outputs": []
    },
    {
      "cell_type": "code",
      "source": [
        "rmse_val_LGBM, mae_val_LGBM, r2_val_LGBM, df_val_LGBM   = report_metrics(y_val,  y_pred_val,  \"LGBM VAL\")\n",
        "rmse_test_LGBM, mae_test_LGBM, r2_test_LGBM, df_test_LGBM = report_metrics(y_test, y_pred_test, \"LGBM TEST\")\n",
        "df_val_LGBM[\"Dataset\"] = \"val\"\n",
        "df_test_LGBM[\"Dataset\"] = \"test\""
      ],
      "metadata": {
        "colab": {
          "base_uri": "https://localhost:8080/"
        },
        "id": "evk_VGP7BOm0",
        "outputId": "d4c7e855-e5bf-4afc-fab7-9c4b44c6e59e"
      },
      "execution_count": null,
      "outputs": [
        {
          "output_type": "stream",
          "name": "stdout",
          "text": [
            "[LGBM VAL] RMSE(mean): 0.0220 | MAE(mean): 0.0144 | R2(mean): 0.7409\n",
            "   x: RMSE=0.0245 | MAE=0.0170 | R2=0.3732\n",
            "   y: RMSE=0.0253 | MAE=0.0139 | R2=0.6254\n",
            "   width: RMSE=0.0197 | MAE=0.0139 | R2=0.9759\n",
            "   height: RMSE=0.0183 | MAE=0.0129 | R2=0.9893\n",
            "[LGBM TEST] RMSE(mean): 0.0313 | MAE(mean): 0.0167 | R2(mean): 0.7915\n",
            "   x: RMSE=0.0438 | MAE=0.0181 | R2=0.3683\n",
            "   y: RMSE=0.0150 | MAE=0.0104 | R2=0.8914\n",
            "   width: RMSE=0.0351 | MAE=0.0186 | R2=0.9365\n",
            "   height: RMSE=0.0312 | MAE=0.0198 | R2=0.9697\n"
          ]
        }
      ]
    },
    {
      "cell_type": "markdown",
      "source": [
        "## 6. SVR (Support Vector Regressor)"
      ],
      "metadata": {
        "id": "7SFDjxiTWwXz"
      }
    },
    {
      "cell_type": "code",
      "source": [
        "from sklearn.svm import SVR\n",
        "from sklearn.preprocessing import StandardScaler\n",
        "from sklearn.pipeline import make_pipeline\n",
        "from sklearn.pipeline import Pipeline\n",
        "from sklearn.compose import ColumnTransformer\n",
        "from sklearn.impute import SimpleImputer"
      ],
      "metadata": {
        "id": "TazDWhRW0p0j"
      },
      "execution_count": null,
      "outputs": []
    },
    {
      "cell_type": "code",
      "source": [
        "def limpiar_datos(X, y):\n",
        "    \"\"\"\n",
        "    Devuelve copias limpias de X e y, eliminando filas con NaN\n",
        "    sin modificar las variables originales.\n",
        "    \"\"\"\n",
        "    X_copy = X.copy()\n",
        "    y_copy = y.copy()\n",
        "    n_features = X_copy.shape[1]\n",
        "\n",
        "    # Combinar copias\n",
        "    df = pd.concat([X_copy, y_copy], axis=1)\n",
        "\n",
        "    # Eliminar filas con NaN en cualquier columna\n",
        "    df = df.dropna()\n",
        "\n",
        "    # Volver a separar, sin alterar X e y globales\n",
        "    X_clean = df.iloc[:, :n_features].reset_index(drop=True)\n",
        "    y_clean = df.iloc[:, n_features:].reset_index(drop=True)\n",
        "\n",
        "    return X_clean, y_clean\n"
      ],
      "metadata": {
        "id": "MdGkPePw8Cfs"
      },
      "execution_count": null,
      "outputs": []
    },
    {
      "cell_type": "code",
      "source": [
        "X_train_clean, y_train_clean = limpiar_datos(X_train, y_train)\n",
        "X_test_clean, y_test_clean = limpiar_datos(X_test, y_test)\n"
      ],
      "metadata": {
        "id": "gPsYo3vJ8F4t"
      },
      "execution_count": null,
      "outputs": []
    },
    {
      "cell_type": "code",
      "source": [
        "\n",
        "# Detectar columnas numéricas automáticamente\n",
        "num_cols = X_train_clean.select_dtypes(include=['int64', 'float64']).columns.tolist()\n",
        "\n",
        "# Pipeline de preprocesamiento numérico\n",
        "numeric_transformer = Pipeline(steps=[\n",
        "    ('imputer', SimpleImputer(strategy='median')),  # reemplaza NaN con mediana\n",
        "    ('scaler', StandardScaler())                   # normaliza la escala\n",
        "])\n",
        "\n",
        "# En caso de que tuvieras categóricas, se podrían agregar aquí\n",
        "preprocessor = ColumnTransformer(\n",
        "    transformers=[\n",
        "        ('num', numeric_transformer, num_cols)\n",
        "    ],\n",
        "    remainder='drop'  # o 'passthrough' si quieres conservar otras columnas\n",
        ")\n"
      ],
      "metadata": {
        "id": "-9scwZLc5nT1"
      },
      "execution_count": null,
      "outputs": []
    },
    {
      "cell_type": "code",
      "source": [
        "svr = SVR(kernel='rbf', C=100, epsilon=0.1)\n",
        "multi_svr = MultiOutputRegressor(svr)\n",
        "\n",
        "pipeline = Pipeline(steps=[\n",
        "    ('preprocessor', preprocessor),\n",
        "    ('model', multi_svr)\n",
        "])\n",
        "\n",
        "# Entrenar\n",
        "pipeline.fit(X_train_clean, y_train_clean)\n",
        "\n",
        "# Predecir\n",
        "y_pred = pipeline.predict(X_test)\n",
        "\n"
      ],
      "metadata": {
        "id": "4ggN80Se00kb"
      },
      "execution_count": null,
      "outputs": []
    },
    {
      "cell_type": "code",
      "source": [
        "rmse_val_SVR, mae_val_SVR, r2_val_SVR, df_val_SVR = report_metrics(y_val,  y_pred_val,  \"SVR VAL\")\n",
        "rmse_test_SVR, mae_test_SVR, r2_test_SVR, df_test_SVR = report_metrics(y_test, y_pred_test, \"SVR TEST\")\n",
        "df_val_SVR[\"Dataset\"] = \"val\"\n",
        "df_test_SVR[\"Dataset\"] = \"test\""
      ],
      "metadata": {
        "colab": {
          "base_uri": "https://localhost:8080/"
        },
        "id": "3flEK9TJBo3d",
        "outputId": "2ec5e96b-0f9b-427e-85fb-cb46539106e1"
      },
      "execution_count": null,
      "outputs": [
        {
          "output_type": "stream",
          "name": "stdout",
          "text": [
            "[SVR VAL] RMSE(mean): 0.0220 | MAE(mean): 0.0144 | R2(mean): 0.7409\n",
            "   x: RMSE=0.0245 | MAE=0.0170 | R2=0.3732\n",
            "   y: RMSE=0.0253 | MAE=0.0139 | R2=0.6254\n",
            "   width: RMSE=0.0197 | MAE=0.0139 | R2=0.9759\n",
            "   height: RMSE=0.0183 | MAE=0.0129 | R2=0.9893\n",
            "[SVR TEST] RMSE(mean): 0.0313 | MAE(mean): 0.0167 | R2(mean): 0.7915\n",
            "   x: RMSE=0.0438 | MAE=0.0181 | R2=0.3683\n",
            "   y: RMSE=0.0150 | MAE=0.0104 | R2=0.8914\n",
            "   width: RMSE=0.0351 | MAE=0.0186 | R2=0.9365\n",
            "   height: RMSE=0.0312 | MAE=0.0198 | R2=0.9697\n"
          ]
        }
      ]
    },
    {
      "cell_type": "markdown",
      "source": [
        "# INICIA Actividad 5"
      ],
      "metadata": {
        "id": "n2aUk0EnNBPc"
      }
    },
    {
      "cell_type": "code",
      "source": [
        "def error_visual_promedio(y_true, y_pred, alpha=0.5, beta=0.5):\n",
        "    \"\"\"\n",
        "    Calcula el Error Visual Promedio (EVP), que combina errores de posición y tamaño.\n",
        "    \"\"\"\n",
        "    pos_error = np.sqrt((y_true[:,0]-y_pred[:,0])**2 + (y_true[:,1]-y_pred[:,1])**2)\n",
        "    size_error = alpha*np.abs(y_true[:,2]-y_pred[:,2]) + beta*np.abs(y_true[:,3]-y_pred[:,3])\n",
        "    return np.mean(pos_error + size_error)\n",
        "\n",
        "def evaluar_modelo(nombre, modelo, X_train, X_test, y_train, y_test):\n",
        "    \"\"\"\n",
        "    Entrena y evalúa un modelo multisalida.\n",
        "    Devuelve un diccionario con métricas clave.\n",
        "    \"\"\"\n",
        "    start = time.time()\n",
        "    modelo.fit(X_train, y_train)\n",
        "    y_pred = modelo.predict(X_test)\n",
        "    end = time.time()\n",
        "\n",
        "    rmse = np.sqrt(mean_squared_error(y_test, y_pred))\n",
        "    mae = mean_absolute_error(y_test, y_pred)\n",
        "    r2 = r2_score(y_test, y_pred)\n",
        "    evp = error_visual_promedio(y_test.values, y_pred)\n",
        "    tiempo = round(end - start, 2)\n",
        "\n",
        "    return {\n",
        "        'Modelo': nombre,\n",
        "        'RMSE': rmse,\n",
        "        'MAE': mae,\n",
        "        'R2': r2,\n",
        "        'EVP': evp,\n",
        "        'Tiempo (s)': tiempo\n",
        "    }\n"
      ],
      "metadata": {
        "id": "iVq_sch_GwRT"
      },
      "execution_count": null,
      "outputs": []
    },
    {
      "cell_type": "markdown",
      "source": [
        "# Ensambles Homogéneos"
      ],
      "metadata": {
        "id": "qau3RFTmO27_"
      }
    },
    {
      "cell_type": "markdown",
      "source": [
        "Un ensamble homogéneo es una técnica de machine learning que funciona como un comité de expertos, con la particularidad de que todos los miembros son del mismo tipo, usualmente árboles de decisión simples. La premisa es que la sabiduría colectiva de muchos modelos \"decentes\" supera la de un único modelo \"genio\", resultando en predicciones más estables y precisas. Existen dos estrategias principales para que este equipo colabore: en la primera, llamada Bagging, los modelos trabajan en paralelo, cada uno con una visión ligeramente distinta de los datos, y la decisión final se toma por votación democrática, lo que ayuda a evitar el sobreajuste. En la segunda, conocida como Boosting, los modelos trabajan en secuencia: el primero hace una predicción, el segundo se enfoca en corregir sus errores, el tercero en los errores restantes, y así sucesivamente, creando una cadena de especialistas que refinan la respuesta hasta alcanzar una alta precisión."
      ],
      "metadata": {
        "id": "u-GBQ_DDkFIQ"
      }
    },
    {
      "cell_type": "code",
      "source": [
        "modelos = []\n",
        "\n",
        "# 4.1 Random Forest (Bagging)\n",
        "rf = MultiOutputRegressor(RandomForestRegressor(n_estimators=300, max_depth=15, random_state=42))\n",
        "modelos.append(evaluar_modelo('RandomForest (Bagging)', rf, X_train, X_test, y_train, y_test))\n",
        "\n",
        "# 4.2 XGBoost (Boosting)\n",
        "xgb = MultiOutputRegressor(XGBRegressor(n_estimators=400, learning_rate=0.05, max_depth=10, random_state=42))\n",
        "modelos.append(evaluar_modelo('XGBoost (Boosting)', xgb, X_train, X_test, y_train, y_test))\n",
        "\n",
        "# 4.3 LightGBM (Boosting)\n",
        "lgbm = MultiOutputRegressor(LGBMRegressor(n_estimators=400, learning_rate=0.05, max_depth=10, random_state=42))\n",
        "modelos.append(evaluar_modelo('LightGBM (Boosting)', lgbm, X_train, X_test, y_train, y_test))"
      ],
      "metadata": {
        "id": "AOeedFZIH4ZC"
      },
      "execution_count": null,
      "outputs": []
    },
    {
      "cell_type": "code",
      "source": [
        "X_train_cleantest, y_train_cleantest = limpiar_datos(X_train, y_train)\n",
        "X_test_cleantest, y_test_cleantest = limpiar_datos(X_test, y_test)\n"
      ],
      "metadata": {
        "id": "K3vjgrZeKgNR"
      },
      "execution_count": null,
      "outputs": []
    },
    {
      "cell_type": "markdown",
      "source": [
        "# Tabla Comparativa de Resultados"
      ],
      "metadata": {
        "id": "NARneDi5PBUl"
      }
    },
    {
      "cell_type": "code",
      "source": [
        "resultados_df = pd.DataFrame(modelos).sort_values(by='RMSE')\n",
        "display(resultados_df)"
      ],
      "metadata": {
        "colab": {
          "base_uri": "https://localhost:8080/",
          "height": 143
        },
        "id": "sweH8HE6LhLX",
        "outputId": "bc009add-7133-4c59-e44d-ed0bdf12c409"
      },
      "execution_count": null,
      "outputs": [
        {
          "output_type": "display_data",
          "data": {
            "text/plain": [
              "                   Modelo      RMSE       MAE        R2       EVP  Tiempo (s)\n",
              "2     LightGBM (Boosting)  0.033550  0.016297  0.793535  0.042205        0.81\n",
              "1      XGBoost (Boosting)  0.036301  0.018628  0.823933  0.045352        5.03\n",
              "0  RandomForest (Bagging)  0.036623  0.019443  0.812414  0.048180        9.20"
            ],
            "text/html": [
              "\n",
              "  <div id=\"df-73b36599-6eaf-44cd-9d8f-39e2e9023555\" class=\"colab-df-container\">\n",
              "    <div>\n",
              "<style scoped>\n",
              "    .dataframe tbody tr th:only-of-type {\n",
              "        vertical-align: middle;\n",
              "    }\n",
              "\n",
              "    .dataframe tbody tr th {\n",
              "        vertical-align: top;\n",
              "    }\n",
              "\n",
              "    .dataframe thead th {\n",
              "        text-align: right;\n",
              "    }\n",
              "</style>\n",
              "<table border=\"1\" class=\"dataframe\">\n",
              "  <thead>\n",
              "    <tr style=\"text-align: right;\">\n",
              "      <th></th>\n",
              "      <th>Modelo</th>\n",
              "      <th>RMSE</th>\n",
              "      <th>MAE</th>\n",
              "      <th>R2</th>\n",
              "      <th>EVP</th>\n",
              "      <th>Tiempo (s)</th>\n",
              "    </tr>\n",
              "  </thead>\n",
              "  <tbody>\n",
              "    <tr>\n",
              "      <th>2</th>\n",
              "      <td>LightGBM (Boosting)</td>\n",
              "      <td>0.033550</td>\n",
              "      <td>0.016297</td>\n",
              "      <td>0.793535</td>\n",
              "      <td>0.042205</td>\n",
              "      <td>0.81</td>\n",
              "    </tr>\n",
              "    <tr>\n",
              "      <th>1</th>\n",
              "      <td>XGBoost (Boosting)</td>\n",
              "      <td>0.036301</td>\n",
              "      <td>0.018628</td>\n",
              "      <td>0.823933</td>\n",
              "      <td>0.045352</td>\n",
              "      <td>5.03</td>\n",
              "    </tr>\n",
              "    <tr>\n",
              "      <th>0</th>\n",
              "      <td>RandomForest (Bagging)</td>\n",
              "      <td>0.036623</td>\n",
              "      <td>0.019443</td>\n",
              "      <td>0.812414</td>\n",
              "      <td>0.048180</td>\n",
              "      <td>9.20</td>\n",
              "    </tr>\n",
              "  </tbody>\n",
              "</table>\n",
              "</div>\n",
              "    <div class=\"colab-df-buttons\">\n",
              "\n",
              "  <div class=\"colab-df-container\">\n",
              "    <button class=\"colab-df-convert\" onclick=\"convertToInteractive('df-73b36599-6eaf-44cd-9d8f-39e2e9023555')\"\n",
              "            title=\"Convert this dataframe to an interactive table.\"\n",
              "            style=\"display:none;\">\n",
              "\n",
              "  <svg xmlns=\"http://www.w3.org/2000/svg\" height=\"24px\" viewBox=\"0 -960 960 960\">\n",
              "    <path d=\"M120-120v-720h720v720H120Zm60-500h600v-160H180v160Zm220 220h160v-160H400v160Zm0 220h160v-160H400v160ZM180-400h160v-160H180v160Zm440 0h160v-160H620v160ZM180-180h160v-160H180v160Zm440 0h160v-160H620v160Z\"/>\n",
              "  </svg>\n",
              "    </button>\n",
              "\n",
              "  <style>\n",
              "    .colab-df-container {\n",
              "      display:flex;\n",
              "      gap: 12px;\n",
              "    }\n",
              "\n",
              "    .colab-df-convert {\n",
              "      background-color: #E8F0FE;\n",
              "      border: none;\n",
              "      border-radius: 50%;\n",
              "      cursor: pointer;\n",
              "      display: none;\n",
              "      fill: #1967D2;\n",
              "      height: 32px;\n",
              "      padding: 0 0 0 0;\n",
              "      width: 32px;\n",
              "    }\n",
              "\n",
              "    .colab-df-convert:hover {\n",
              "      background-color: #E2EBFA;\n",
              "      box-shadow: 0px 1px 2px rgba(60, 64, 67, 0.3), 0px 1px 3px 1px rgba(60, 64, 67, 0.15);\n",
              "      fill: #174EA6;\n",
              "    }\n",
              "\n",
              "    .colab-df-buttons div {\n",
              "      margin-bottom: 4px;\n",
              "    }\n",
              "\n",
              "    [theme=dark] .colab-df-convert {\n",
              "      background-color: #3B4455;\n",
              "      fill: #D2E3FC;\n",
              "    }\n",
              "\n",
              "    [theme=dark] .colab-df-convert:hover {\n",
              "      background-color: #434B5C;\n",
              "      box-shadow: 0px 1px 3px 1px rgba(0, 0, 0, 0.15);\n",
              "      filter: drop-shadow(0px 1px 2px rgba(0, 0, 0, 0.3));\n",
              "      fill: #FFFFFF;\n",
              "    }\n",
              "  </style>\n",
              "\n",
              "    <script>\n",
              "      const buttonEl =\n",
              "        document.querySelector('#df-73b36599-6eaf-44cd-9d8f-39e2e9023555 button.colab-df-convert');\n",
              "      buttonEl.style.display =\n",
              "        google.colab.kernel.accessAllowed ? 'block' : 'none';\n",
              "\n",
              "      async function convertToInteractive(key) {\n",
              "        const element = document.querySelector('#df-73b36599-6eaf-44cd-9d8f-39e2e9023555');\n",
              "        const dataTable =\n",
              "          await google.colab.kernel.invokeFunction('convertToInteractive',\n",
              "                                                    [key], {});\n",
              "        if (!dataTable) return;\n",
              "\n",
              "        const docLinkHtml = 'Like what you see? Visit the ' +\n",
              "          '<a target=\"_blank\" href=https://colab.research.google.com/notebooks/data_table.ipynb>data table notebook</a>'\n",
              "          + ' to learn more about interactive tables.';\n",
              "        element.innerHTML = '';\n",
              "        dataTable['output_type'] = 'display_data';\n",
              "        await google.colab.output.renderOutput(dataTable, element);\n",
              "        const docLink = document.createElement('div');\n",
              "        docLink.innerHTML = docLinkHtml;\n",
              "        element.appendChild(docLink);\n",
              "      }\n",
              "    </script>\n",
              "  </div>\n",
              "\n",
              "\n",
              "    <div id=\"df-22cf5fca-58dd-48f9-9afa-26782cb63061\">\n",
              "      <button class=\"colab-df-quickchart\" onclick=\"quickchart('df-22cf5fca-58dd-48f9-9afa-26782cb63061')\"\n",
              "                title=\"Suggest charts\"\n",
              "                style=\"display:none;\">\n",
              "\n",
              "<svg xmlns=\"http://www.w3.org/2000/svg\" height=\"24px\"viewBox=\"0 0 24 24\"\n",
              "     width=\"24px\">\n",
              "    <g>\n",
              "        <path d=\"M19 3H5c-1.1 0-2 .9-2 2v14c0 1.1.9 2 2 2h14c1.1 0 2-.9 2-2V5c0-1.1-.9-2-2-2zM9 17H7v-7h2v7zm4 0h-2V7h2v10zm4 0h-2v-4h2v4z\"/>\n",
              "    </g>\n",
              "</svg>\n",
              "      </button>\n",
              "\n",
              "<style>\n",
              "  .colab-df-quickchart {\n",
              "      --bg-color: #E8F0FE;\n",
              "      --fill-color: #1967D2;\n",
              "      --hover-bg-color: #E2EBFA;\n",
              "      --hover-fill-color: #174EA6;\n",
              "      --disabled-fill-color: #AAA;\n",
              "      --disabled-bg-color: #DDD;\n",
              "  }\n",
              "\n",
              "  [theme=dark] .colab-df-quickchart {\n",
              "      --bg-color: #3B4455;\n",
              "      --fill-color: #D2E3FC;\n",
              "      --hover-bg-color: #434B5C;\n",
              "      --hover-fill-color: #FFFFFF;\n",
              "      --disabled-bg-color: #3B4455;\n",
              "      --disabled-fill-color: #666;\n",
              "  }\n",
              "\n",
              "  .colab-df-quickchart {\n",
              "    background-color: var(--bg-color);\n",
              "    border: none;\n",
              "    border-radius: 50%;\n",
              "    cursor: pointer;\n",
              "    display: none;\n",
              "    fill: var(--fill-color);\n",
              "    height: 32px;\n",
              "    padding: 0;\n",
              "    width: 32px;\n",
              "  }\n",
              "\n",
              "  .colab-df-quickchart:hover {\n",
              "    background-color: var(--hover-bg-color);\n",
              "    box-shadow: 0 1px 2px rgba(60, 64, 67, 0.3), 0 1px 3px 1px rgba(60, 64, 67, 0.15);\n",
              "    fill: var(--button-hover-fill-color);\n",
              "  }\n",
              "\n",
              "  .colab-df-quickchart-complete:disabled,\n",
              "  .colab-df-quickchart-complete:disabled:hover {\n",
              "    background-color: var(--disabled-bg-color);\n",
              "    fill: var(--disabled-fill-color);\n",
              "    box-shadow: none;\n",
              "  }\n",
              "\n",
              "  .colab-df-spinner {\n",
              "    border: 2px solid var(--fill-color);\n",
              "    border-color: transparent;\n",
              "    border-bottom-color: var(--fill-color);\n",
              "    animation:\n",
              "      spin 1s steps(1) infinite;\n",
              "  }\n",
              "\n",
              "  @keyframes spin {\n",
              "    0% {\n",
              "      border-color: transparent;\n",
              "      border-bottom-color: var(--fill-color);\n",
              "      border-left-color: var(--fill-color);\n",
              "    }\n",
              "    20% {\n",
              "      border-color: transparent;\n",
              "      border-left-color: var(--fill-color);\n",
              "      border-top-color: var(--fill-color);\n",
              "    }\n",
              "    30% {\n",
              "      border-color: transparent;\n",
              "      border-left-color: var(--fill-color);\n",
              "      border-top-color: var(--fill-color);\n",
              "      border-right-color: var(--fill-color);\n",
              "    }\n",
              "    40% {\n",
              "      border-color: transparent;\n",
              "      border-right-color: var(--fill-color);\n",
              "      border-top-color: var(--fill-color);\n",
              "    }\n",
              "    60% {\n",
              "      border-color: transparent;\n",
              "      border-right-color: var(--fill-color);\n",
              "    }\n",
              "    80% {\n",
              "      border-color: transparent;\n",
              "      border-right-color: var(--fill-color);\n",
              "      border-bottom-color: var(--fill-color);\n",
              "    }\n",
              "    90% {\n",
              "      border-color: transparent;\n",
              "      border-bottom-color: var(--fill-color);\n",
              "    }\n",
              "  }\n",
              "</style>\n",
              "\n",
              "      <script>\n",
              "        async function quickchart(key) {\n",
              "          const quickchartButtonEl =\n",
              "            document.querySelector('#' + key + ' button');\n",
              "          quickchartButtonEl.disabled = true;  // To prevent multiple clicks.\n",
              "          quickchartButtonEl.classList.add('colab-df-spinner');\n",
              "          try {\n",
              "            const charts = await google.colab.kernel.invokeFunction(\n",
              "                'suggestCharts', [key], {});\n",
              "          } catch (error) {\n",
              "            console.error('Error during call to suggestCharts:', error);\n",
              "          }\n",
              "          quickchartButtonEl.classList.remove('colab-df-spinner');\n",
              "          quickchartButtonEl.classList.add('colab-df-quickchart-complete');\n",
              "        }\n",
              "        (() => {\n",
              "          let quickchartButtonEl =\n",
              "            document.querySelector('#df-22cf5fca-58dd-48f9-9afa-26782cb63061 button');\n",
              "          quickchartButtonEl.style.display =\n",
              "            google.colab.kernel.accessAllowed ? 'block' : 'none';\n",
              "        })();\n",
              "      </script>\n",
              "    </div>\n",
              "\n",
              "  <div id=\"id_2a8175d1-2a68-48e4-9d2c-3900ff1c2e85\">\n",
              "    <style>\n",
              "      .colab-df-generate {\n",
              "        background-color: #E8F0FE;\n",
              "        border: none;\n",
              "        border-radius: 50%;\n",
              "        cursor: pointer;\n",
              "        display: none;\n",
              "        fill: #1967D2;\n",
              "        height: 32px;\n",
              "        padding: 0 0 0 0;\n",
              "        width: 32px;\n",
              "      }\n",
              "\n",
              "      .colab-df-generate:hover {\n",
              "        background-color: #E2EBFA;\n",
              "        box-shadow: 0px 1px 2px rgba(60, 64, 67, 0.3), 0px 1px 3px 1px rgba(60, 64, 67, 0.15);\n",
              "        fill: #174EA6;\n",
              "      }\n",
              "\n",
              "      [theme=dark] .colab-df-generate {\n",
              "        background-color: #3B4455;\n",
              "        fill: #D2E3FC;\n",
              "      }\n",
              "\n",
              "      [theme=dark] .colab-df-generate:hover {\n",
              "        background-color: #434B5C;\n",
              "        box-shadow: 0px 1px 3px 1px rgba(0, 0, 0, 0.15);\n",
              "        filter: drop-shadow(0px 1px 2px rgba(0, 0, 0, 0.3));\n",
              "        fill: #FFFFFF;\n",
              "      }\n",
              "    </style>\n",
              "    <button class=\"colab-df-generate\" onclick=\"generateWithVariable('resultados_df')\"\n",
              "            title=\"Generate code using this dataframe.\"\n",
              "            style=\"display:none;\">\n",
              "\n",
              "  <svg xmlns=\"http://www.w3.org/2000/svg\" height=\"24px\"viewBox=\"0 0 24 24\"\n",
              "       width=\"24px\">\n",
              "    <path d=\"M7,19H8.4L18.45,9,17,7.55,7,17.6ZM5,21V16.75L18.45,3.32a2,2,0,0,1,2.83,0l1.4,1.43a1.91,1.91,0,0,1,.58,1.4,1.91,1.91,0,0,1-.58,1.4L9.25,21ZM18.45,9,17,7.55Zm-12,3A5.31,5.31,0,0,0,4.9,8.1,5.31,5.31,0,0,0,1,6.5,5.31,5.31,0,0,0,4.9,4.9,5.31,5.31,0,0,0,6.5,1,5.31,5.31,0,0,0,8.1,4.9,5.31,5.31,0,0,0,12,6.5,5.46,5.46,0,0,0,6.5,12Z\"/>\n",
              "  </svg>\n",
              "    </button>\n",
              "    <script>\n",
              "      (() => {\n",
              "      const buttonEl =\n",
              "        document.querySelector('#id_2a8175d1-2a68-48e4-9d2c-3900ff1c2e85 button.colab-df-generate');\n",
              "      buttonEl.style.display =\n",
              "        google.colab.kernel.accessAllowed ? 'block' : 'none';\n",
              "\n",
              "      buttonEl.onclick = () => {\n",
              "        google.colab.notebook.generateWithVariable('resultados_df');\n",
              "      }\n",
              "      })();\n",
              "    </script>\n",
              "  </div>\n",
              "\n",
              "    </div>\n",
              "  </div>\n"
            ],
            "application/vnd.google.colaboratory.intrinsic+json": {
              "type": "dataframe",
              "variable_name": "resultados_df",
              "summary": "{\n  \"name\": \"resultados_df\",\n  \"rows\": 3,\n  \"fields\": [\n    {\n      \"column\": \"Modelo\",\n      \"properties\": {\n        \"dtype\": \"string\",\n        \"num_unique_values\": 3,\n        \"samples\": [\n          \"LightGBM (Boosting)\",\n          \"XGBoost (Boosting)\",\n          \"RandomForest (Bagging)\"\n        ],\n        \"semantic_type\": \"\",\n        \"description\": \"\"\n      }\n    },\n    {\n      \"column\": \"RMSE\",\n      \"properties\": {\n        \"dtype\": \"number\",\n        \"std\": 0.001689242344018865,\n        \"min\": 0.03354958991116293,\n        \"max\": 0.0366234980815017,\n        \"num_unique_values\": 3,\n        \"samples\": [\n          0.03354958991116293,\n          0.03630060145408399,\n          0.0366234980815017\n        ],\n        \"semantic_type\": \"\",\n        \"description\": \"\"\n      }\n    },\n    {\n      \"column\": \"MAE\",\n      \"properties\": {\n        \"dtype\": \"number\",\n        \"std\": 0.001632948978182861,\n        \"min\": 0.01629662263283814,\n        \"max\": 0.019443012356798257,\n        \"num_unique_values\": 3,\n        \"samples\": [\n          0.01629662263283814,\n          0.018627934157848358,\n          0.019443012356798257\n        ],\n        \"semantic_type\": \"\",\n        \"description\": \"\"\n      }\n    },\n    {\n      \"column\": \"R2\",\n      \"properties\": {\n        \"dtype\": \"number\",\n        \"std\": 0.015346386013736467,\n        \"min\": 0.7935353877163757,\n        \"max\": 0.8239325284957886,\n        \"num_unique_values\": 3,\n        \"samples\": [\n          0.7935353877163757,\n          0.8239325284957886,\n          0.812414320231639\n        ],\n        \"semantic_type\": \"\",\n        \"description\": \"\"\n      }\n    },\n    {\n      \"column\": \"EVP\",\n      \"properties\": {\n        \"dtype\": \"number\",\n        \"std\": 0.0029890590595065,\n        \"min\": 0.04220485597522651,\n        \"max\": 0.04818013945503369,\n        \"num_unique_values\": 3,\n        \"samples\": [\n          0.04220485597522651,\n          0.045351911282969275,\n          0.04818013945503369\n        ],\n        \"semantic_type\": \"\",\n        \"description\": \"\"\n      }\n    },\n    {\n      \"column\": \"Tiempo (s)\",\n      \"properties\": {\n        \"dtype\": \"number\",\n        \"std\": 4.1950248310747025,\n        \"min\": 0.81,\n        \"max\": 9.2,\n        \"num_unique_values\": 3,\n        \"samples\": [\n          0.81,\n          5.03,\n          9.2\n        ],\n        \"semantic_type\": \"\",\n        \"description\": \"\"\n      }\n    }\n  ]\n}"
            }
          },
          "metadata": {}
        }
      ]
    },
    {
      "cell_type": "markdown",
      "source": [
        "Al analizar el rendimiento de los modelos, XGBoost se destaca como la opción más robusta y equilibrada para nuestro objetivo. Aunque LightGBM ofrece una ejecución más rápida y un error absoluto (RMSE) marginalmente inferior, XGBoost lo supera en la métrica clave de poder explicativo. Con el coeficiente de determinación (R²) más alto de 0.824, nuestro modelo XGBoost es capaz de explicar el 82.4% de la variabilidad de los datos, lo que indica un ajuste superior y una mejor comprensión de las relaciones subyacentes en comparación con sus competidores. Este significativo aumento en la calidad del ajuste, combinado con un tiempo de ejecución que sigue siendo eficiente, lo posiciona como la elección óptima que no sacrifica la interpretabilidad del modelo por una ganancia menor en velocidad."
      ],
      "metadata": {
        "id": "xCW70kclZFlX"
      }
    },
    {
      "cell_type": "markdown",
      "source": [
        "#  Ensambles Heterogeneos"
      ],
      "metadata": {
        "id": "Eni99LBeO8Tl"
      }
    },
    {
      "cell_type": "markdown",
      "source": [
        "Los ensambles heterogéneos ayudan a a resolver la regresión de múltiples salidas. La función de stacking nos ayuda a combinar modelos y usar otro para realizar una predicción final.\n",
        "\n",
        "El stacking regressor comnina varios modelos y utiliza un modelo final para mezclar sus predicciones. Estas predicciones se utilizan como entradas nuevas para el modelo final el cual pondera y combina las predicciones para mejorar su precisión.\n",
        "\n",
        "Los modelos base a utilizar fueron XGBRegressor, LGBMRegressor & SVR son combinados por el modelo meta final llamado LinearRegression para tomar en cuenta el Stacking 1.\n",
        "\n",
        "En el caso de Stacking 2, los modelos base a utilizar son RandomForestRegressor, XGBRegressor & SVR son utilizados para el modelo final no lineal, ya que este mismo ofrece mayor capacidad para captura de relaciones complejas entre predicciones base.\n",
        "\n",
        "Ambos stackings son utilizados de manera simultánea con MultiOutputRegressor, ya que son adecuados para tareas donde se deben predecir varios valores simutáneamente. Esto mismo se aprovecha de la diversidad de los modelos base y la capacidad de aprendizaje del modelo meta con cual se están presentando resultados más robustos y precisos."
      ],
      "metadata": {
        "id": "bY8o_hxqEiBJ"
      }
    },
    {
      "cell_type": "code",
      "source": [
        "from sklearn.multioutput import MultiOutputRegressor\n",
        "\n",
        "# 5.1 Stacking 1 (XGB + LGBM + SVR → LinearRegression)\n",
        "estimators = [\n",
        "    ('xgb', XGBRegressor(n_estimators=300, learning_rate=0.05)),\n",
        "    ('lgbm', LGBMRegressor(n_estimators=300, learning_rate=0.05)),\n",
        "    ('svr', SVR(C=1.0, kernel='rbf'))\n",
        "]\n",
        "\n",
        "# Creamos el stacker base\n",
        "stacking1_base = StackingRegressor(\n",
        "    estimators=estimators,\n",
        "    final_estimator=LinearRegression(),\n",
        "    n_jobs=-1\n",
        ")\n",
        "\n",
        "# Lo envolvemos para que funcione con salidas múltiples\n",
        "stacking1 = MultiOutputRegressor(stacking1_base)\n",
        "\n",
        "modelos.append(evaluar_modelo('Stacking 1 (LR meta)', stacking1, X_train_cleantest, X_test_cleantest, y_train_cleantest, y_test_cleantest))\n"
      ],
      "metadata": {
        "id": "iGn5vmDaJ8a6"
      },
      "execution_count": null,
      "outputs": []
    },
    {
      "cell_type": "code",
      "source": [
        "# 5.2 Stacking 2 (RF + XGB + SVR → XGB meta)\n",
        "estimators_2 = [\n",
        "    ('rf', RandomForestRegressor(n_estimators=200)),\n",
        "    ('xgb', XGBRegressor(n_estimators=300)),\n",
        "    ('svr', SVR(C=1.0, kernel='rbf'))\n",
        "]\n",
        "\n",
        "stacking2_base = StackingRegressor(\n",
        "    estimators=estimators_2,\n",
        "    final_estimator=XGBRegressor(n_estimators=200),\n",
        "    n_jobs=-1\n",
        ")\n",
        "\n",
        "stacking2 = MultiOutputRegressor(stacking2_base)\n",
        "\n",
        "modelos.append(evaluar_modelo('Stacking 2 (XGB meta)', stacking2, X_train_cleantest, X_test_cleantest, y_train_cleantest, y_test_cleantest))\n"
      ],
      "metadata": {
        "id": "O_ALfk6zLHkB"
      },
      "execution_count": null,
      "outputs": []
    },
    {
      "cell_type": "markdown",
      "source": [
        "# Visualizaciones"
      ],
      "metadata": {
        "id": "p5nj-zC1PHTy"
      }
    },
    {
      "cell_type": "code",
      "source": [
        "plt.figure(figsize=(10,6))\n",
        "sns.barplot(x='RMSE', y='Modelo', data=resultados_df, palette='viridis')\n",
        "plt.title('Comparación de RMSE por modelo')\n",
        "plt.show()\n",
        "\n",
        "plt.figure(figsize=(10,6))\n",
        "sns.barplot(x='EVP', y='Modelo', data=resultados_df, palette='mako')\n",
        "plt.title('Error Visual Promedio (EVP) por modelo')\n",
        "plt.show()"
      ],
      "metadata": {
        "colab": {
          "base_uri": "https://localhost:8080/",
          "height": 1000
        },
        "id": "3DKjYwBJIELe",
        "outputId": "642a0c30-8db1-4636-ee2b-37c7729ed221"
      },
      "execution_count": null,
      "outputs": [
        {
          "output_type": "stream",
          "name": "stderr",
          "text": [
            "/tmp/ipython-input-1053491242.py:2: FutureWarning: \n",
            "\n",
            "Passing `palette` without assigning `hue` is deprecated and will be removed in v0.14.0. Assign the `y` variable to `hue` and set `legend=False` for the same effect.\n",
            "\n",
            "  sns.barplot(x='RMSE', y='Modelo', data=resultados_df, palette='viridis')\n"
          ]
        },
        {
          "output_type": "display_data",
          "data": {
            "text/plain": [
              "<Figure size 1000x600 with 1 Axes>"
            ],
            "image/png": "[encoded data removed]"
          },
          "metadata": {}
        },
        {
          "output_type": "stream",
          "name": "stderr",
          "text": [
            "/tmp/ipython-input-1053491242.py:7: FutureWarning: \n",
            "\n",
            "Passing `palette` without assigning `hue` is deprecated and will be removed in v0.14.0. Assign the `y` variable to `hue` and set `legend=False` for the same effect.\n",
            "\n",
            "  sns.barplot(x='EVP', y='Modelo', data=resultados_df, palette='mako')\n"
          ]
        },
        {
          "output_type": "display_data",
          "data": {
            "text/plain": [
              "<Figure size 1000x600 with 1 Axes>"
            ],
            "image/png": "[encoded data removed]"
          },
          "metadata": {}
        }
      ]
    },
    {
      "cell_type": "markdown",
      "source": [
        "# Análisis de Residuos"
      ],
      "metadata": {
        "id": "Odo3T7hsf7Zx"
      }
    },
    {
      "cell_type": "code",
      "source": [
        "y_pred = xgb.predict(X_test)\n",
        "residuos = y_test.values - y_pred\n",
        "\n",
        "fig, axs = plt.subplots(2, 2, figsize=(12, 8))\n",
        "vars_ = ['x', 'y', 'width', 'height']\n",
        "\n",
        "for i, ax in enumerate(axs.ravel()):\n",
        "    ax.scatter(y_pred[:, i], residuos[:, i], alpha=0.3)\n",
        "    ax.axhline(0, color='red', linestyle='--')\n",
        "    ax.set_title(f'Residuos vs Predicción: {vars_[i]}')\n",
        "    ax.set_xlabel('Predicción')\n",
        "    ax.set_ylabel('Residuo')\n",
        "\n",
        "plt.tight_layout()\n",
        "plt.show()"
      ],
      "metadata": {
        "colab": {
          "base_uri": "https://localhost:8080/",
          "height": 807
        },
        "id": "mGQsGNswf-Kb",
        "outputId": "b0352c79-9961-45ed-fb60-651883bec8b6"
      },
      "execution_count": null,
      "outputs": [
        {
          "output_type": "display_data",
          "data": {
            "text/plain": [
              "<Figure size 1200x800 with 4 Axes>"
            ],
            "image/png": "[encoded data removed]"
          },
          "metadata": {}
        }
      ]
    },
    {
      "cell_type": "markdown",
      "source": [
        "Los puntos azules están cerca de la línea roja (0), lo que indica que el modelo predice bien y no presenta sesgos. Los errores son pequeños y se distribuyen de forma aleatoria, lo que demuestra buena generalización. <p>La variable x es la más precisa, con residuos muy pequeños y concentrados cerca de cero. <p>En y también hay buena estabilidad, sin tendencia clara. <p>En width los errores son leves y aleatorios, mientras que en height hay un poco más de dispersión, aunque sigue dentro de lo aceptable. <p>En general, el modelo XGBoost muestra un excelente desempeño, sin sesgos y con alta precisión, siendo una opción confiable para el sistema **FlexSAIze**. Solo se recomienda revisar algunos puntos atípicos para afinar aún más el resultado."
      ],
      "metadata": {
        "id": "oPOZ2bzFg5IZ"
      }
    },
    {
      "cell_type": "markdown",
      "source": [
        "# Gráfica de Predicción VS Real"
      ],
      "metadata": {
        "id": "OLnnlOw4w_O8"
      }
    },
    {
      "cell_type": "code",
      "source": [
        "fig, axs = plt.subplots(2, 2, figsize=(12, 10))\n",
        "vars_ = ['x', 'y', 'width', 'height']\n",
        "\n",
        "for i, ax in enumerate(axs.ravel()):\n",
        "    ax.scatter(y_test.values[:, i], y_pred[:, i], alpha=0.5)\n",
        "\n",
        "    lims = [\n",
        "        min(ax.get_xlim()[0], ax.get_ylim()[0]),  # Límite inferior\n",
        "        max(ax.get_xlim()[1], ax.get_ylim()[1]),  # Límite superior\n",
        "    ]\n",
        "    ax.plot(lims, lims, color='red', linestyle='--', label='Predicción Perfecta')\n",
        "\n",
        "    # 3. Etiquetas y Título\n",
        "    ax.set_title(f'Predicción vs Real: {vars_[i]}')\n",
        "    ax.set_xlabel('Valor Real')\n",
        "    ax.set_ylabel('Valor Predicho')\n",
        "    ax.legend()\n",
        "    ax.grid(True)\n",
        "\n",
        "\n",
        "plt.tight_layout()\n",
        "plt.show()"
      ],
      "metadata": {
        "colab": {
          "base_uri": "https://localhost:8080/",
          "height": 1000
        },
        "id": "BFWxxMfVgGgZ",
        "outputId": "77c46061-d46b-4ff2-fc17-ab0ab81612d3"
      },
      "execution_count": null,
      "outputs": [
        {
          "output_type": "display_data",
          "data": {
            "text/plain": [
              "<Figure size 1200x1000 with 4 Axes>"
            ],
            "image/png": "[encoded data removed]"
          },
          "metadata": {}
        }
      ]
    },
    {
      "cell_type": "markdown",
      "source": [
        "El análisis gráfico de los valores predichos frente a los reales confirma de manera contundente el alto rendimiento y la robustez del modelo XGBoost en esta tarea de regresión multisalida. En los cuatro subplots, la concentración de los datos a lo largo de la línea diagonal de \"Predicción Perfecta\" indica una fuerte correlación positiva y un bajo error general entre las predicciones del modelo y los valores verdaderos.\n",
        "\n",
        "Se observa que el modelo alcanza una precisión particularmente alta al predecir la coordenada y, evidenciada por la mínima dispersión de los puntos. Por otro lado, y en concordancia con el análisis de residuos previo, la predicción de height presenta una varianza ligeramente mayor, aunque sigue manteniendo una tendencia lineal muy clara y fiable. Las variables x y width también demuestran una gran exactitud, con solo algunos outliers menores en los valores extremos que sugieren que el modelo es muy efectivo en la gran mayoría de los casos. En conjunto, estos gráficos validan que el enfoque multisalida es exitoso, ya que el modelo no solo es preciso, sino que también genera predicciones coherentes y bien calibradas para las cuatro variables simultáneamente."
      ],
      "metadata": {
        "id": "pG9AGrLiirBS"
      }
    },
    {
      "cell_type": "markdown",
      "source": [
        "# **Gráfico de Importancia de Características**"
      ],
      "metadata": {
        "id": "fakH9p4ngLrE"
      }
    },
    {
      "cell_type": "code",
      "source": [
        "meta_model = stacking1.estimators_[0].final_estimator_\n",
        "\n",
        "# El meta-modelo recibe una \"feature\" por cada modelo base:\n",
        "caracteristicas_meta = ['Pred_XGB', 'Pred_LGBM', 'Pred_SVR']\n",
        "\n",
        "# Obtener los coeficientes absolutos (ya que LinearRegression no tiene feature_importances_)\n",
        "importancias_df = pd.DataFrame({\n",
        "    'Característica': caracteristicas_meta,\n",
        "    'Importancia': abs(meta_model.coef_)\n",
        "}).sort_values(by='Importancia', ascending=False)\n",
        "\n",
        "# Graficar con el mismo estilo que tus otros gráficos\n",
        "plt.figure(figsize=(10,6))\n",
        "sns.barplot(x='Importancia', y='Característica', data=importancias_df, palette='mako')\n",
        "plt.title('Importancia de características - Stacking 1 (LR meta)')\n",
        "plt.xlabel('Importancia (|coeficiente|)')\n",
        "plt.ylabel('Modelo base')\n",
        "plt.tight_layout()\n",
        "plt.show()"
      ],
      "metadata": {
        "colab": {
          "base_uri": "https://localhost:8080/",
          "height": 696
        },
        "id": "OQafY8ErJVz_",
        "outputId": "dfff16fe-0d38-4d50-b380-547303758c00"
      },
      "execution_count": null,
      "outputs": [
        {
          "output_type": "stream",
          "name": "stderr",
          "text": [
            "/tmp/ipython-input-137688654.py:14: FutureWarning: \n",
            "\n",
            "Passing `palette` without assigning `hue` is deprecated and will be removed in v0.14.0. Assign the `y` variable to `hue` and set `legend=False` for the same effect.\n",
            "\n",
            "  sns.barplot(x='Importancia', y='Característica', data=importancias_df, palette='mako')\n"
          ]
        },
        {
          "output_type": "display_data",
          "data": {
            "text/plain": [
              "<Figure size 1000x600 with 1 Axes>"
            ],
            "image/png": "[encoded data removed]"
          },
          "metadata": {}
        }
      ]
    },
    {
      "cell_type": "code",
      "source": [
        "caracteristicas = ['x', 'y', 'width', 'height']\n",
        "\n",
        "# Si el meta-modelo tiene coeficientes por salida, promedia en el eje 0\n",
        "importancias_promedio = np.mean(abs(meta_model.coef_), axis=0)\n",
        "\n",
        "# Crear DataFrame con las importancias promedio\n",
        "importancias_df = pd.DataFrame({\n",
        "    'Característica': caracteristicas,\n",
        "    'Importancia': importancias_promedio\n",
        "}).sort_values(by='Importancia', ascending=False)\n",
        "\n",
        "# Graficar\n",
        "plt.figure(figsize=(8, 5))\n",
        "sns.barplot(x='Importancia', y='Característica', data=importancias_df, palette='viridis')\n",
        "plt.title('Importancia promedio de características (Stacking 1 - LR meta)')\n",
        "plt.xlabel('Importancia promedio')\n",
        "plt.ylabel('Característica')\n",
        "plt.tight_layout()\n",
        "plt.show()"
      ],
      "metadata": {
        "colab": {
          "base_uri": "https://localhost:8080/",
          "height": 596
        },
        "id": "DONveoX8L96H",
        "outputId": "a4a94bdb-2b05-4e6a-9f07-20dd332bcecf"
      },
      "execution_count": null,
      "outputs": [
        {
          "output_type": "stream",
          "name": "stderr",
          "text": [
            "/tmp/ipython-input-297084755.py:14: FutureWarning: \n",
            "\n",
            "Passing `palette` without assigning `hue` is deprecated and will be removed in v0.14.0. Assign the `y` variable to `hue` and set `legend=False` for the same effect.\n",
            "\n",
            "  sns.barplot(x='Importancia', y='Característica', data=importancias_df, palette='viridis')\n"
          ]
        },
        {
          "output_type": "display_data",
          "data": {
            "text/plain": [
              "<Figure size 800x500 with 1 Axes>"
            ],
            "image/png": "[encoded data removed]"
          },
          "metadata": {}
        }
      ]
    },
    {
      "cell_type": "markdown",
      "source": [
        "Esta gráfica da como resultado algo muy interesante, ya que se visualiza que el stacking 1 logra una combinación muy equilibrada y bien distribuida entre las variables de entrada.\n",
        "\n",
        "Esto quiere decir que el modelo no depende solamente de una sola característica, sino aprovecha de manera conjunta la información de ubicación y tamaño para mejorar la precisión en las predicciones."
      ],
      "metadata": {
        "id": "4PAk03slOOKS"
      }
    },
    {
      "cell_type": "markdown",
      "source": [
        "El modelo meta del Stacking 1 utiliza como principal el XGBoost para realizar las predicciones finales. Esto quiere decir que el XGB es el modelo mas sólido y explicativo y gracias al stacking se mejora su rendimiento al incorporar de forma equilibrada la información del SVR.\n",
        "\n",
        "SVR tiene un aporte moderado y el LGBM tiene una contribución muy limitada."
      ],
      "metadata": {
        "id": "-SSKceXkNjgn"
      }
    },
    {
      "cell_type": "code",
      "source": [
        "meta_model = stacking2.estimators_[0].final_estimator_\n",
        "\n",
        "# El meta-modelo recibe una \"feature\" por cada modelo base:\n",
        "caracteristicas_meta = ['Pred_RF', 'Pred_XGB', 'Pred_SVR']\n",
        "\n",
        "# Crear DataFrame con las importancias del meta-modelo\n",
        "importancias_df = pd.DataFrame({\n",
        "    'Característica': caracteristicas_meta,\n",
        "    'Importancia': meta_model.feature_importances_\n",
        "}).sort_values(by='Importancia', ascending=False)\n",
        "\n",
        "# Graficar en el mismo estilo que tus otros gráficos\n",
        "plt.figure(figsize=(10,6))\n",
        "sns.barplot(x='Importancia', y='Característica', data=importancias_df, palette='rocket')\n",
        "plt.title('Importancia de características - Stacking 2 (XGB meta)')\n",
        "plt.xlabel('Importancia')\n",
        "plt.ylabel('Modelo base')\n",
        "plt.tight_layout()\n",
        "plt.show()"
      ],
      "metadata": {
        "colab": {
          "base_uri": "https://localhost:8080/",
          "height": 696
        },
        "id": "m6hJ1wTLC_iK",
        "outputId": "307b0f9f-d634-46e8-b0d2-96527b4a32f6"
      },
      "execution_count": null,
      "outputs": [
        {
          "output_type": "stream",
          "name": "stderr",
          "text": [
            "/tmp/ipython-input-2504254339.py:14: FutureWarning: \n",
            "\n",
            "Passing `palette` without assigning `hue` is deprecated and will be removed in v0.14.0. Assign the `y` variable to `hue` and set `legend=False` for the same effect.\n",
            "\n",
            "  sns.barplot(x='Importancia', y='Característica', data=importancias_df, palette='rocket')\n"
          ]
        },
        {
          "output_type": "display_data",
          "data": {
            "text/plain": [
              "<Figure size 1000x600 with 1 Axes>"
            ],
            "image/png": "[encoded data removed]"
          },
          "metadata": {}
        }
      ]
    },
    {
      "cell_type": "markdown",
      "source": [
        "Este gráfico nos demuestra que el Stacking 2 aprovecha las predicciones de XGB y SVR, dejando a RandomForest como modelo secundario. XGB y SVR que vienen siendo los modlelos no lineales mas complejos son aquellos que capturan de una mejor manera las relaciones entre variables y salidas. Dando como resultado los principales responsables del rendimiento global del ensamble."
      ],
      "metadata": {
        "id": "Zu8MNsDtM4jz"
      }
    },
    {
      "cell_type": "markdown",
      "source": [
        "# Comparación Visual de un Banner"
      ],
      "metadata": {
        "id": "GSMHvAMXPWxr"
      }
    },
    {
      "cell_type": "code",
      "source": [
        "fila = 0  # índice del ejemplo que quieres graficar\n",
        "y_pred_final = stacking1.predict(X_test_cleantest)\n",
        "real = y_test_cleantest.iloc[fila]\n",
        "pred = y_pred_final[fila]\n",
        "\n",
        "fig, ax = plt.subplots()\n",
        "ax.add_patch(plt.Rectangle((real['x'], real['y']), real['width'], real['height'],\n",
        "                           fill=False, edgecolor='green', linewidth=2, label='Real'))\n",
        "ax.add_patch(plt.Rectangle((pred[0], pred[1]), pred[2], pred[3],\n",
        "                           fill=False, edgecolor='red', linewidth=2, label='Predicho'))\n",
        "plt.legend()\n",
        "plt.title('Comparación visual del banner (verde=real, rojo=predicho)')\n",
        "plt.show()\n"
      ],
      "metadata": {
        "colab": {
          "base_uri": "https://localhost:8080/",
          "height": 453
        },
        "id": "cHvO8qLQLofn",
        "outputId": "2d225896-3bc6-4965-9646-e2a463a0955c"
      },
      "execution_count": null,
      "outputs": [
        {
          "output_type": "display_data",
          "data": {
            "text/plain": [
              "<Figure size 640x480 with 1 Axes>"
            ],
            "image/png": "[encoded data removed]"
          },
          "metadata": {}
        }
      ]
    },
    {
      "cell_type": "markdown",
      "source": [
        "En la comparación visual de un ejemplo de prueba, se observa un solapamiento casi exacto entre el banner real (verde) y el predicho por el modelo Stacking 1 (rojo). Esto indica que el modelo ha logrado capturar correctamente tanto la posición (x, y) como el tamaño (width, height) del objeto, con un error visual prácticamente nulo. Este resultado respalda cuantitativamente las métricas obtenidas y cualitativamente demuestra la eficacia del enfoque de stacking multisalida para la predicción precisa de regiones espaciales."
      ],
      "metadata": {
        "id": "7cENOtTbMj6e"
      }
    },
    {
      "cell_type": "markdown",
      "source": [
        "# Conclusiones"
      ],
      "metadata": {
        "id": "sXVvkncKNdCB"
      }
    },
    {
      "cell_type": "markdown",
      "source": [
        "La evaluación comparativa de los modelos de ensamble muestra un equilibrio interesante entre precisión, capacidad de generalización y eficiencia computacional. Entre los modelos base, LightGBM (Boosting) destaca como el más eficiente, logrando un RMSE de 0.0336, un MAE de 0.0163 y un R² de 0.79 en tan solo 0.81 segundos. Su bajo tiempo de ejecución y error moderado lo convierten en la opción ideal para aplicaciones en tiempo real o escenarios con restricciones de latencia.\n",
        "\n",
        "Por otro lado, XGBoost (Boosting) y RandomForest (Bagging) mantienen un rendimiento competitivo, aunque con tiempos de cómputo superiores. XGBoost logra un R² ligeramente mayor (0.8239), pero a costa de un tiempo de ejecución más de seis veces superior al de LightGBM, lo que sugiere que, si bien ofrece una leve mejora en ajuste, no resulta tan eficiente computacionalmente.\n",
        "\n",
        "En contraste, el modelo Stacking 1 (LR meta) logra los mejores resultados globales, con un RMSE de 0.020164 y un R² de 0.835, lo que evidencia su capacidad para combinar las fortalezas de los modelos base. Este ensamble aprovecha principalmente las predicciones de XGBoost (modelo más sólido y explicativo), complementadas con las del SVR, mientras que LightGBM tiene una contribución menor. El resultado es un modelo balanceado, con menor dependencia de una sola fuente y mayor estabilidad entre las variables de posición y tamaño del banner.\n",
        "\n",
        "Asimismo, el Stacking 2 (XGB meta) refuerza estos hallazgos, mostrando que las combinaciones heterogéneas (XGBRegressor, SVR y RandomForest) potencian la capacidad del modelo para capturar relaciones no lineales complejas entre las salidas. Los análisis de importancia de características confirman que el modelo meta aprovecha de forma equilibrada las variables x, y, width y height, lo que mejora la generalización y reduce el sobreajuste.\n",
        "\n",
        "Finalmente, los gráficos de comparación visual entre valores reales y predichos demuestran una superposición casi perfecta, indicando que el modelo predice de forma muy precisa sin sesgos apreciables. Las desviaciones observadas en la variable height son mínimas y esperables debido a su mayor varianza.\n",
        "\n",
        "El modelo Stacking 1 con Regresión Lineal como meta-estimador se consolida como la mejor alternativa global por su precisión y estabilidad, mientras que LightGBM es el más adecuado cuando se prioriza velocidad y eficiencia. Ambos modelos destacan dentro del sistema FlexSAIze, ofreciendo una solución robusta, interpretable y adaptable según los requerimientos de exactitud o tiempo de respuesta."
      ],
      "metadata": {
        "id": "ZVmuRvrQN5xM"
      }
    },
    {
      "cell_type": "markdown",
      "source": [
        "# Referencias"
      ],
      "metadata": {
        "id": "iK30mRelQoIF"
      }
    },
    {
      "cell_type": "markdown",
      "source": [
        "- Chen, T., & Guestrin, C. (2016). XGBoost: A scalable tree boosting system. In Proceedings of the 22nd ACM SIGKDD International Conference on Knowledge Discovery and Data Mining (pp. 785–794). ACM. https://doi.org/10.1145/2939672.2939785\n",
        "\n",
        "- Friedman, J. H. (2001). Greedy function approximation: A gradient boosting machine. Annals of Statistics, 29(5), 1189–1232. https://doi.org/10.1214/aos/1013203451\n",
        "\n",
        "- Ho, T. K. (1995). Random decision forests. In Proceedings of the 3rd International Conference on Document Analysis and Recognition (Vol. 1, pp. 278–282). IEEE. https://doi.org/10.1109/ICDAR.1995.598994\n",
        "\n",
        "- Quinlan, J. R. (1986). Induction of decision trees. Machine Learning, 1(1), 81–106. https://doi.org/10.1007/BF00116251"
      ],
      "metadata": {
        "id": "iPG94BzgQpzg"
      }
    }
  ]
}