{
  "nbformat": 4,
  "nbformat_minor": 0,
  "metadata": {
    "colab": {
      "provenance": []
    },
    "kernelspec": {
      "name": "python3",
      "display_name": "Python 3"
    },
    "language_info": {
      "name": "python"
    }
  },
  "cells": [
    {
      "cell_type": "code",
      "source": [
        "!mkdir banners"
      ],
      "metadata": {
        "id": "HdBPpjUO6b6D"
      },
      "execution_count": null,
      "outputs": []
    },
    {
      "cell_type": "code",
      "execution_count": null,
      "metadata": {
        "id": "hxQ2f2FMpH9o",
        "colab": {
          "base_uri": "https://localhost:8080/"
        },
        "outputId": "6b967eec-ae7a-497a-b5db-f040d1d837a2"
      },
      "outputs": [
        {
          "output_type": "stream",
          "name": "stdout",
          "text": [
            "Requirement already satisfied: psd-tools in /usr/local/lib/python3.12/dist-packages (1.10.11)\n",
            "Requirement already satisfied: docopt>=0.6.0 in /usr/local/lib/python3.12/dist-packages (from psd-tools) (0.6.2)\n",
            "Requirement already satisfied: attrs>=23.0.0 in /usr/local/lib/python3.12/dist-packages (from psd-tools) (25.3.0)\n",
            "Requirement already satisfied: Pillow>=10.3.0 in /usr/local/lib/python3.12/dist-packages (from psd-tools) (11.3.0)\n",
            "Requirement already satisfied: aggdraw in /usr/local/lib/python3.12/dist-packages (from psd-tools) (1.3.19)\n",
            "Requirement already satisfied: numpy in /usr/local/lib/python3.12/dist-packages (from psd-tools) (2.0.2)\n",
            "Requirement already satisfied: scipy in /usr/local/lib/python3.12/dist-packages (from psd-tools) (1.16.2)\n",
            "Requirement already satisfied: scikit-image in /usr/local/lib/python3.12/dist-packages (from psd-tools) (0.25.2)\n",
            "Requirement already satisfied: networkx>=3.0 in /usr/local/lib/python3.12/dist-packages (from scikit-image->psd-tools) (3.5)\n",
            "Requirement already satisfied: imageio!=2.35.0,>=2.33 in /usr/local/lib/python3.12/dist-packages (from scikit-image->psd-tools) (2.37.0)\n",
            "Requirement already satisfied: tifffile>=2022.8.12 in /usr/local/lib/python3.12/dist-packages (from scikit-image->psd-tools) (2025.9.9)\n",
            "Requirement already satisfied: packaging>=21 in /usr/local/lib/python3.12/dist-packages (from scikit-image->psd-tools) (25.0)\n",
            "Requirement already satisfied: lazy-loader>=0.4 in /usr/local/lib/python3.12/dist-packages (from scikit-image->psd-tools) (0.4)\n"
          ]
        }
      ],
      "source": [
        "!pip install psd-tools"
      ]
    },
    {
      "cell_type": "code",
      "source": [
        "import os\n",
        "import pandas as pd\n",
        "from psd_tools import PSDImage"
      ],
      "metadata": {
        "id": "V-JegP9Q59Ns"
      },
      "execution_count": null,
      "outputs": []
    },
    {
      "cell_type": "code",
      "source": [
        "folder_path = \"/content/banners\"\n",
        "all_data = []\n",
        "kv_data = {}  # Información de los Key Visuals (KV)"
      ],
      "metadata": {
        "id": "il8M9AxTqzoo"
      },
      "execution_count": null,
      "outputs": []
    },
    {
      "cell_type": "code",
      "source": [
        "# Asignar tipo de elemento a cada capa\n",
        "def assign_element_type(layer_name):\n",
        "    name = layer_name.lower()\n",
        "    if \"fixed\" in name or \"forced\" in name or \"locked\" in name:\n",
        "        return \"FIXED\"\n",
        "    elif \"cta\" in name or \"button\" in name:\n",
        "        return \"CTA\"\n",
        "    elif \"product\" in name or \"sku\" in name:\n",
        "        return \"PRODUCT\"\n",
        "    elif \"logo\" in name:\n",
        "        return \"LOGO\"\n",
        "    elif \"legal\" in name:\n",
        "        return \"LEGAL\"\n",
        "    elif \"copy\" in name or \"text\" in name or \"subheading\" in name:\n",
        "        return \"TEXT\"\n",
        "    elif \"background\" in name:\n",
        "        return \"BACKGROUND\"\n",
        "    else:\n",
        "        return \"OTHER\""
      ],
      "metadata": {
        "id": "zvWmir8lq0A9"
      },
      "execution_count": null,
      "outputs": []
    },
    {
      "cell_type": "code",
      "source": [
        "# Asignar prioridad según tipo de elemento\n",
        "def assign_priority(element_type):\n",
        "    if element_type == \"FIXED\":\n",
        "        return 3\n",
        "    elif element_type in [\"CTA\", \"PRODUCT\", \"LOGO\", \"LEGAL\", \"TEXT\"]:\n",
        "        return 2\n",
        "    elif element_type == \"BACKGROUND\":\n",
        "        return -1\n",
        "    else:\n",
        "        return 0\n"
      ],
      "metadata": {
        "id": "TD5hl-8Cq2B4"
      },
      "execution_count": null,
      "outputs": []
    },
    {
      "cell_type": "code",
      "source": [
        "# Extraer capas de un PSD\n",
        "def extract_layers(psd, filename):\n",
        "    elements = []\n",
        "    canvas_width = psd.width\n",
        "    canvas_height = psd.height\n",
        "\n",
        "    for i, layer in enumerate(psd):\n",
        "        if not layer.is_group() and layer.bbox is not None:\n",
        "            left, top, right, bottom = layer.bbox\n",
        "            width = right - left\n",
        "            height = bottom - top\n",
        "            element_type = assign_element_type(layer.name)\n",
        "            priority = assign_priority(element_type)\n",
        "\n",
        "            elements.append({\n",
        "                'file': filename,\n",
        "                'layer_name': layer.name,\n",
        "                'type': element_type,\n",
        "                'priority': priority,\n",
        "                'x': left,\n",
        "                'y': top,\n",
        "                'width': width,\n",
        "                'height': height,\n",
        "                'z_index': i,\n",
        "                'canvas_width': canvas_width,\n",
        "                'canvas_height': canvas_height\n",
        "            })\n",
        "    return elements"
      ],
      "metadata": {
        "id": "csBRDcogq3rX"
      },
      "execution_count": null,
      "outputs": []
    },
    {
      "cell_type": "code",
      "source": [
        "# Obtener nombre base (sin dimensiones ni \"KV\")\n",
        "def get_base_name(filename):\n",
        "    parts = filename.replace(\".psd\", \"\").split(\"_\")\n",
        "    last_part = parts[-1].lower()\n",
        "    if last_part == \"kv\" or \"x\" in last_part:\n",
        "        parts = parts[:-1]\n",
        "    return \"_\".join(parts)"
      ],
      "metadata": {
        "id": "TPsfnu_Yq5f_"
      },
      "execution_count": null,
      "outputs": []
    },
    {
      "cell_type": "code",
      "source": [
        "# -------- PRIMERA PASADA: PROCESAR KVs -------- #\n",
        "\n",
        "for filename in sorted(os.listdir(folder_path)):\n",
        "    if filename.endswith(\".psd\") and \"kv\" in filename.lower():\n",
        "        filepath = os.path.join(folder_path, filename)\n",
        "        psd = PSDImage.open(filepath)\n",
        "        base_name = get_base_name(filename)\n",
        "\n",
        "        elements = extract_layers(psd, filename)\n",
        "\n",
        "        kv_data[base_name] = {\n",
        "            'canvas_width': psd.width,\n",
        "            'canvas_height': psd.height,\n",
        "            'elements': elements\n",
        "        }"
      ],
      "metadata": {
        "id": "jSIEBDYTq8HJ"
      },
      "execution_count": null,
      "outputs": []
    },
    {
      "cell_type": "code",
      "source": [
        "# -------- SEGUNDA PASADA: PROCESAR BANNERS -------- #\n",
        "\n",
        "for filename in sorted(os.listdir(folder_path)):\n",
        "    if filename.endswith(\".psd\") and \"kv\" not in filename.lower():\n",
        "        filepath = os.path.join(folder_path, filename)\n",
        "        psd = PSDImage.open(filepath)\n",
        "        base_name = get_base_name(filename)\n",
        "\n",
        "        elements = extract_layers(psd, filename)\n",
        "\n",
        "        kv_info = kv_data.get(base_name)\n",
        "        kv_canvas_width = kv_canvas_height = None\n",
        "        kv_x = kv_y = kv_width = kv_height = kv_z = None\n",
        "        text_x = text_y = text_w = text_h = text_z = None\n",
        "\n",
        "        # Buscar info del KV\n",
        "        if kv_info:\n",
        "            kv_canvas_width = kv_info['canvas_width']\n",
        "            kv_canvas_height = kv_info['canvas_height']\n",
        "            for el in kv_info['elements']:\n",
        "                if el['type'] in [\"PRODUCT\", \"TEXT\"]:\n",
        "                    kv_x = el['x']\n",
        "                    kv_y = el['y']\n",
        "                    kv_width = el['width']\n",
        "                    kv_height = el['height']\n",
        "                    kv_z = el['z_index']\n",
        "                    break\n",
        "\n",
        "        # Buscar capa de texto en el banner\n",
        "        for el in elements:\n",
        "            if el['type'] == \"TEXT\":\n",
        "                text_x = el['x']\n",
        "                text_y = el['y']\n",
        "                text_w = el['width']\n",
        "                text_h = el['height']\n",
        "                text_z = el['z_index']\n",
        "                break\n",
        "\n",
        "        # Agregar datos a la lista\n",
        "        for el in elements:\n",
        "            all_data.append({\n",
        "                **el,\n",
        "                'kv_canvas_width': kv_canvas_width,\n",
        "                'kv_canvas_height': kv_canvas_height,\n",
        "                'kv_x': kv_x,\n",
        "                'kv_y': kv_y,\n",
        "                'kv_width': kv_width,\n",
        "                'kv_height': kv_height,\n",
        "                'kv_z_index': kv_z,\n",
        "                'text_x': text_x,\n",
        "                'text_y': text_y,\n",
        "                'text_width': text_w,\n",
        "                'text_height': text_h,\n",
        "                'text_z_index': text_z\n",
        "            })"
      ],
      "metadata": {
        "id": "FeU3cZXjq9yr"
      },
      "execution_count": null,
      "outputs": []
    },
    {
      "cell_type": "code",
      "source": [
        "df = pd.DataFrame(all_data)\n",
        "df.to_csv(\"banners_metadata.csv\", index=False)\n",
        "print(df.head())"
      ],
      "metadata": {
        "colab": {
          "base_uri": "https://localhost:8080/"
        },
        "id": "0WLMRNvMrE0_",
        "outputId": "a7685144-adc6-4180-ff8e-056d099f54b2"
      },
      "execution_count": null,
      "outputs": [
        {
          "output_type": "stream",
          "name": "stdout",
          "text": [
            "                file   layer_name        type  priority   x    y  width  \\\n",
            "0  Bubly_160X600.psd   BACKGROUND  BACKGROUND        -1   0    0    160   \n",
            "1  Bubly_160X600.psd         SKUs     PRODUCT         2   0  224    160   \n",
            "2  Bubly_160X600.psd         COPY        TEXT         2  12   85    139   \n",
            "3  Bubly_160X600.psd          CTA         CTA         2  12  522    139   \n",
            "4  Bubly_160X600.psd  SUB HEADING       OTHER         0  14  406    132   \n",
            "\n",
            "   height  z_index  canvas_width  ...   kv_x   kv_y  kv_width  kv_height  \\\n",
            "0     600        0           160  ...  172.0  219.0    1361.0      162.0   \n",
            "1     334        1           160  ...  172.0  219.0    1361.0      162.0   \n",
            "2      66        2           160  ...  172.0  219.0    1361.0      162.0   \n",
            "3      37        3           160  ...  172.0  219.0    1361.0      162.0   \n",
            "4      63        4           160  ...  172.0  219.0    1361.0      162.0   \n",
            "\n",
            "   kv_z_index  text_x  text_y  text_width  text_height  text_z_index  \n",
            "0         2.0      12      85         139           66             2  \n",
            "1         2.0      12      85         139           66             2  \n",
            "2         2.0      12      85         139           66             2  \n",
            "3         2.0      12      85         139           66             2  \n",
            "4         2.0      12      85         139           66             2  \n",
            "\n",
            "[5 rows x 23 columns]\n"
          ]
        }
      ]
    }
  ]
}