{
  "nbformat": 4,
  "nbformat_minor": 0,
  "metadata": {
    "colab": {
      "provenance": []
    },
    "kernelspec": {
      "name": "python3",
      "display_name": "Python 3"
    },
    "language_info": {
      "name": "python"
    }
  },
  "cells": [
    {
      "cell_type": "code",
      "source": [
        "!mkdir banners"
      ],
      "metadata": {
        "id": "HdBPpjUO6b6D"
      },
      "execution_count": 24,
      "outputs": []
    },
    {
      "cell_type": "code",
      "source": [
        "!rm -r banners"
      ],
      "metadata": {
        "id": "2UAWN9_dmO92"
      },
      "execution_count": 23,
      "outputs": []
    },
    {
      "cell_type": "code",
      "execution_count": 25,
      "metadata": {
        "id": "hxQ2f2FMpH9o",
        "colab": {
          "base_uri": "https://localhost:8080/"
        },
        "outputId": "a5439439-5787-44a8-a2d3-57eda6ad0b03"
      },
      "outputs": [
        {
          "output_type": "stream",
          "name": "stdout",
          "text": [
            "Requirement already satisfied: psd-tools in /usr/local/lib/python3.12/dist-packages (1.10.13)\n",
            "Requirement already satisfied: attrs>=23.0.0 in /usr/local/lib/python3.12/dist-packages (from psd-tools) (25.3.0)\n",
            "Requirement already satisfied: Pillow>=10.3.0 in /usr/local/lib/python3.12/dist-packages (from psd-tools) (11.3.0)\n",
            "Requirement already satisfied: aggdraw in /usr/local/lib/python3.12/dist-packages (from psd-tools) (1.3.19)\n",
            "Requirement already satisfied: numpy in /usr/local/lib/python3.12/dist-packages (from psd-tools) (2.0.2)\n",
            "Requirement already satisfied: scipy in /usr/local/lib/python3.12/dist-packages (from psd-tools) (1.16.2)\n",
            "Requirement already satisfied: scikit-image in /usr/local/lib/python3.12/dist-packages (from psd-tools) (0.25.2)\n",
            "Requirement already satisfied: networkx>=3.0 in /usr/local/lib/python3.12/dist-packages (from scikit-image->psd-tools) (3.5)\n",
            "Requirement already satisfied: imageio!=2.35.0,>=2.33 in /usr/local/lib/python3.12/dist-packages (from scikit-image->psd-tools) (2.37.0)\n",
            "Requirement already satisfied: tifffile>=2022.8.12 in /usr/local/lib/python3.12/dist-packages (from scikit-image->psd-tools) (2025.9.30)\n",
            "Requirement already satisfied: packaging>=21 in /usr/local/lib/python3.12/dist-packages (from scikit-image->psd-tools) (25.0)\n",
            "Requirement already satisfied: lazy-loader>=0.4 in /usr/local/lib/python3.12/dist-packages (from scikit-image->psd-tools) (0.4)\n"
          ]
        }
      ],
      "source": [
        "!pip install psd-tools"
      ]
    },
    {
      "cell_type": "code",
      "source": [
        "import os\n",
        "import pandas as pd\n",
        "import numpy as np\n",
        "from psd_tools import PSDImage"
      ],
      "metadata": {
        "id": "V-JegP9Q59Ns"
      },
      "execution_count": 26,
      "outputs": []
    },
    {
      "cell_type": "code",
      "source": [
        "folder_path = \"/content/banners\"\n",
        "all_data = []\n",
        "kv_data = {}  # Info de los Key Visuals (KV)"
      ],
      "metadata": {
        "id": "T1WdEO1kDInb"
      },
      "execution_count": 12,
      "outputs": []
    },
    {
      "cell_type": "code",
      "source": [
        "# Asignar tipo de elemento a cada capa\n",
        "def assign_element_type(layer_name):\n",
        "    name = layer_name.lower()\n",
        "    if \"price\" in name or \"precio\" in name:\n",
        "        return \"PRICE\"\n",
        "    elif \"fixed\" in name or \"locked\" in name:\n",
        "        return \"FIXED\"\n",
        "    elif \"cta\" in name or \"button\" in name:\n",
        "        return \"CTA\"\n",
        "    elif \"product\" in name or \"sku\" in name:\n",
        "        return \"PRODUCT\"\n",
        "    elif \"logo\" in name:\n",
        "        return \"LOGO\"\n",
        "    elif \"legal\" in name:\n",
        "        return \"LEGAL\"\n",
        "    elif \"copy\" in name or \"text\" in name or \"sub heading\" in name:\n",
        "        return \"TEXT\"\n",
        "    elif \"background\" in name:\n",
        "        return \"BACKGROUND\"\n",
        "    else:\n",
        "        return \"OTHER\"\n",
        "\n",
        "# ✅ Asignar prioridad según tipo de elemento (actualizado)\n",
        "def assign_priority(element_type):\n",
        "    if element_type == \"FIXED\":\n",
        "        return 4  # Highest priority\n",
        "    elif element_type in [\"PRICE\", \"CTA\", \"LEGAL\"]:\n",
        "        return 3  # High priority\n",
        "    elif element_type in [\"PRODUCT\", \"TEXT\"]:\n",
        "        return 2  # Medium priority\n",
        "    elif element_type == \"BACKGROUND\":\n",
        "        return -1  # Lowest priority\n",
        "    else:\n",
        "        return 0  # Default priority for unknown types\n",
        "\n",
        "# Extraer capas de un PSD\n",
        "def extract_layers(psd, filename):\n",
        "    elements = []\n",
        "    canvas_width = psd.width\n",
        "    canvas_height = psd.height\n",
        "\n",
        "    for i, layer in enumerate(psd):\n",
        "        if not layer.is_group() and layer.bbox is not None:\n",
        "            left, top, right, bottom = layer.bbox\n",
        "            width = right - left\n",
        "            height = bottom - top\n",
        "            element_type = assign_element_type(layer.name)\n",
        "            priority = assign_priority(element_type)\n",
        "\n",
        "            elements.append({\n",
        "                'file': filename,\n",
        "                'layer_name': layer.name,\n",
        "                'type': element_type,\n",
        "                'priority': priority,\n",
        "                'x': left,\n",
        "                'y': top,\n",
        "                'width': width,\n",
        "                'height': height,\n",
        "                'z_index': i,\n",
        "                'canvas_width': canvas_width,\n",
        "                'canvas_height': canvas_height\n",
        "            })\n",
        "    return elements\n",
        "\n",
        "# Obtener nombre base (sin dimensiones ni \"KV\")\n",
        "def get_base_name(filename):\n",
        "    parts = filename.replace(\".psd\", \"\").split(\"_\")\n",
        "    last_part = parts[-1].lower()\n",
        "    if last_part == \"kv\" or \"x\" in last_part:\n",
        "        parts = parts[:-1]\n",
        "    return \"_\".join(parts)\n",
        "\n",
        "# ---------- INICIO ---------- #\n",
        "\n",
        "folder_path = \"/content/banners\"\n",
        "all_data = []\n",
        "kv_data = {}  # Info de los Key Visuals (KV)\n",
        "\n",
        "# -------- PRIMERA PASADA: PROCESAR KVs -------- #\n",
        "for filename in sorted(os.listdir(folder_path)):\n",
        "    if filename.endswith(\".psd\") and \"kv\" in filename.lower():\n",
        "        filepath = os.path.join(folder_path, filename)\n",
        "        psd = PSDImage.open(filepath)\n",
        "        base_name = get_base_name(filename)\n",
        "\n",
        "        elements = extract_layers(psd, filename)\n",
        "\n",
        "        kv_data[base_name] = {\n",
        "            'canvas_width': psd.width,\n",
        "            'canvas_height': psd.height,\n",
        "            'elements': elements\n",
        "        }\n",
        "\n",
        "        for el in elements:\n",
        "            all_data.append({\n",
        "                **el,\n",
        "                'kv_canvas_width': psd.width,\n",
        "                'kv_canvas_height': psd.height,\n",
        "                'kv_x': el['x'],\n",
        "                'kv_y': el['y'],\n",
        "                'kv_width': el['width'],\n",
        "                'kv_height': el['height'],\n",
        "                'kv_z_index': el['z_index'],\n",
        "                'is_in_kv': 1  # siempre 1 porque es el KV mismo\n",
        "            })\n",
        "\n",
        "# -------- SEGUNDA PASADA: PROCESAR BANNERS -------- #\n",
        "for filename in sorted(os.listdir(folder_path)):\n",
        "    if filename.endswith(\".psd\") and \"kv\" not in filename.lower():\n",
        "        filepath = os.path.join(folder_path, filename)\n",
        "        psd = PSDImage.open(filepath)\n",
        "        base_name = get_base_name(filename)\n",
        "\n",
        "        elements = extract_layers(psd, filename)\n",
        "\n",
        "        kv_info = kv_data.get(base_name)\n",
        "        kv_canvas_width = kv_canvas_height = np.nan\n",
        "\n",
        "        # Mapear por tipo para comparar fondo con fondo, producto con producto…\n",
        "        kv_by_type = {}\n",
        "        if kv_info:\n",
        "            kv_canvas_width = kv_info['canvas_width']\n",
        "            kv_canvas_height = kv_info['canvas_height']\n",
        "            for el in kv_info['elements']:\n",
        "                kv_by_type.setdefault(el['type'], []).append(el)\n",
        "\n",
        "        for el in elements:\n",
        "            # Inicializar como NaN\n",
        "            kv_x = kv_y = kv_width = kv_height = kv_z = np.nan\n",
        "            is_in_kv = 0\n",
        "\n",
        "            if kv_by_type.get(el['type']):\n",
        "                kv_match = kv_by_type[el['type']][0]\n",
        "                kv_x = kv_match['x']\n",
        "                kv_y = kv_match['y']\n",
        "                kv_width = kv_match['width']\n",
        "                kv_height = kv_match['height']\n",
        "                kv_z = kv_match['z_index']\n",
        "                is_in_kv = 1\n",
        "\n",
        "            all_data.append({\n",
        "                **el,\n",
        "                'kv_canvas_width': kv_canvas_width,\n",
        "                'kv_canvas_height': kv_canvas_height,\n",
        "                'kv_x': kv_x,\n",
        "                'kv_y': kv_y,\n",
        "                'kv_width': kv_width,\n",
        "                'kv_height': kv_height,\n",
        "                'kv_z_index': kv_z,\n",
        "                'is_in_kv': is_in_kv\n",
        "            })\n",
        "\n",
        "# ---------- EXPORTAR A CSV ---------- #\n",
        "\n",
        "df = pd.DataFrame(all_data)\n",
        "df.to_csv(\"banners_metadata.csv\", index=False)\n",
        "print(df.head())"
      ],
      "metadata": {
        "colab": {
          "base_uri": "https://localhost:8080/"
        },
        "id": "e7uYtpyTDONY",
        "outputId": "0929269a-cf27-41c9-e455-47967b6abae3"
      },
      "execution_count": 27,
      "outputs": [
        {
          "output_type": "stream",
          "name": "stdout",
          "text": [
            "                 file   layer_name        type  priority    x     y  width  \\\n",
            "0        Bubly_KV.psd   BACKGROUND  BACKGROUND        -1    0     0   1706   \n",
            "1        Bubly_KV.psd  SUB HEADING        TEXT         2  381  1341    910   \n",
            "2        Bubly_KV.psd         COPY        TEXT         2  172   219   1361   \n",
            "3        Bubly_KV.psd         SKUs     PRODUCT         2  232   523   1273   \n",
            "4  FoodService_KV.psd   BACKGROUND  BACKGROUND        -1    0     0   1298   \n",
            "\n",
            "   height  z_index  canvas_width  canvas_height  kv_canvas_width  \\\n",
            "0    1706        0          1706           1706           1706.0   \n",
            "1     146        1          1706           1706           1706.0   \n",
            "2     162        2          1706           1706           1706.0   \n",
            "3     570        3          1706           1706           1706.0   \n",
            "4    1080        0          1298           1080           1298.0   \n",
            "\n",
            "   kv_canvas_height   kv_x    kv_y  kv_width  kv_height  kv_z_index  is_in_kv  \n",
            "0            1706.0    0.0     0.0    1706.0     1706.0         0.0         1  \n",
            "1            1706.0  381.0  1341.0     910.0      146.0         1.0         1  \n",
            "2            1706.0  172.0   219.0    1361.0      162.0         2.0         1  \n",
            "3            1706.0  232.0   523.0    1273.0      570.0         3.0         1  \n",
            "4            1080.0    0.0     0.0    1298.0     1080.0         0.0         1  \n"
          ]
        }
      ]
    }
  ]
}